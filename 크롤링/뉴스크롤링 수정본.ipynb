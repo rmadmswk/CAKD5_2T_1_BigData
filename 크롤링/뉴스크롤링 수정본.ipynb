{
 "cells": [
  {
   "cell_type": "code",
   "execution_count": 1,
   "id": "b427e41f",
   "metadata": {},
   "outputs": [],
   "source": [
    "from time import sleep\n",
    "import re\n",
    "from bs4 import BeautifulSoup\n",
    "import urllib.request\n",
    "import urllib.parse\n",
    "import selenium\n",
    "from selenium import webdriver\n",
    "from selenium.webdriver.common.keys import Keys\n",
    "import warnings\n",
    "warnings.filterwarnings('ignore')"
   ]
  },
  {
   "cell_type": "code",
   "execution_count": 2,
   "id": "788d4b83",
   "metadata": {},
   "outputs": [
    {
     "data": {
      "text/plain": [
       "[<div class=\"section_body\" id=\"section_body\"></div>]"
      ]
     },
     "execution_count": 2,
     "metadata": {},
     "output_type": "execute_result"
    }
   ],
   "source": [
    "url = 'https://news.naver.com/main/main.naver?mode=LSD&mid=shm&sid1=100#&date=%2000:00:00&page=1'\n",
    "html = urllib.request.urlopen(url)\n",
    "soup = BeautifulSoup(html, 'html.parser')\n",
    "\n",
    "soup.find_all('div', class_ = ['section_body'])"
   ]
  },
  {
   "cell_type": "code",
   "execution_count": 7,
   "id": "12efaf8e",
   "metadata": {},
   "outputs": [],
   "source": [
    "# from selenium import webdriver\n",
    "# from selenium.webdriver.common.keys import Keys\n",
    "# path = 'C:/tool/chromedriver.exe'\n",
    "# options = webdriver.ChromeOptions()\n",
    "# options.add_argument('headless')\n",
    "# driver = webdriver.Chrome(path,options=options)"
   ]
  },
  {
   "cell_type": "code",
   "execution_count": 3,
   "id": "df61f94c",
   "metadata": {},
   "outputs": [],
   "source": [
    "from selenium.common.exceptions import NoSuchElementException\n",
    "path = 'C:/tool/chromedriver.exe'\n",
    "driver = webdriver.Chrome(path)\n",
    "\n",
    "\n",
    "for page in range(1, 21):\n",
    "    url = f'https://news.naver.com/main/main.naver?mode=LSD&mid=shm&sid1={cat}#&date=%2000:00:00&page={page}'\n",
    "    driver.get(url)\n",
    "    sleep(5)\n",
    "    for i in range(1, 5):\n",
    "        for j in range(1, 6):\n",
    "            # 경로가 계속 안맞아서 try.except문을 사용해서 예외는 그냥 pass 시켜버림\n",
    "            # 100 부분이 크롤링되고 101 부분 넘어갈때 게속 오류가 발생\n",
    "            try :\n",
    "                driver.find_element_by_xpath(f'//*[@id=\"section_body\"]/ul[{i}]/li[{j}]/dl/dt[2]/a').send_keys(Keys.ENTER)\n",
    "                sleep(0.7)\n",
    "                article = driver.find_element_by_xpath('//*[@id=\"articleBodyContents\"]')\n",
    "                a = re.sub('[^a-zA-Z가-힣\\s]+', '', article.text)\n",
    "                b = re.sub('[\\n]+', ' ', a)\n",
    "                driver.back()\n",
    "                sleep(0.7)\n",
    "            except NoSuchElementException:\n",
    "                pass\n",
    "driver.close()"
   ]
  },
  {
   "cell_type": "code",
   "execution_count": 4,
   "id": "40e8f7c6",
   "metadata": {},
   "outputs": [
    {
     "data": {
      "text/plain": [
       "399"
      ]
     },
     "execution_count": 4,
     "metadata": {},
     "output_type": "execute_result"
    }
   ],
   "source": [
    "len(article_politics)\n",
    "len(article_economy)\n",
    "len(article_society)\n",
    "len(article_science)"
   ]
  },
  {
   "cell_type": "code",
   "execution_count": 5,
   "id": "dae04f45",
   "metadata": {},
   "outputs": [
    {
     "data": {
      "text/html": [
       "<div>\n",
       "<style scoped>\n",
       "    .dataframe tbody tr th:only-of-type {\n",
       "        vertical-align: middle;\n",
       "    }\n",
       "\n",
       "    .dataframe tbody tr th {\n",
       "        vertical-align: top;\n",
       "    }\n",
       "\n",
       "    .dataframe thead th {\n",
       "        text-align: right;\n",
       "    }\n",
       "</style>\n",
       "<table border=\"1\" class=\"dataframe\">\n",
       "  <thead>\n",
       "    <tr style=\"text-align: right;\">\n",
       "      <th></th>\n",
       "      <th>document</th>\n",
       "      <th>label</th>\n",
       "    </tr>\n",
       "  </thead>\n",
       "  <tbody>\n",
       "    <tr>\n",
       "      <th>0</th>\n",
       "      <td>윤석열 당선인 시진핑 중국 국가주석과 오늘 통화 현직 대통령 아닌 당선인으론 첫 사...</td>\n",
       "      <td>0</td>\n",
       "    </tr>\n",
       "    <tr>\n",
       "      <th>1</th>\n",
       "      <td>정부 운영하려면 자기들 필요한 일인데 대소변 구분 못해  갈등엔 국민 짜증나밑에 사...</td>\n",
       "      <td>0</td>\n",
       "    </tr>\n",
       "    <tr>\n",
       "      <th>2</th>\n",
       "      <td>강기정 당대표가 공천 신청한 후보들 쥐잡듯이 잡아그것은 잘못된 것 이준석 국민의힘 ...</td>\n",
       "      <td>0</td>\n",
       "    </tr>\n",
       "    <tr>\n",
       "      <th>3</th>\n",
       "      <td>핵심요약 김경수 전 지사 낙마로 경남도 개월 권한대행 체제 경남지사 선거전 민주당 ...</td>\n",
       "      <td>0</td>\n",
       "    </tr>\n",
       "    <tr>\n",
       "      <th>4</th>\n",
       "      <td>김동연 유약설 출마 지역 너무 뜸들이다 보니 이재명 대장동 하자없다부산저축은행 더 ...</td>\n",
       "      <td>0</td>\n",
       "    </tr>\n",
       "  </tbody>\n",
       "</table>\n",
       "</div>"
      ],
      "text/plain": [
       "                                            document  label\n",
       "0  윤석열 당선인 시진핑 중국 국가주석과 오늘 통화 현직 대통령 아닌 당선인으론 첫 사...      0\n",
       "1  정부 운영하려면 자기들 필요한 일인데 대소변 구분 못해  갈등엔 국민 짜증나밑에 사...      0\n",
       "2  강기정 당대표가 공천 신청한 후보들 쥐잡듯이 잡아그것은 잘못된 것 이준석 국민의힘 ...      0\n",
       "3  핵심요약 김경수 전 지사 낙마로 경남도 개월 권한대행 체제 경남지사 선거전 민주당 ...      0\n",
       "4  김동연 유약설 출마 지역 너무 뜸들이다 보니 이재명 대장동 하자없다부산저축은행 더 ...      0"
      ]
     },
     "execution_count": 5,
     "metadata": {},
     "output_type": "execute_result"
    }
   ],
   "source": [
    "import pandas as pd\n",
    "df_politics = pd.DataFrame({'document':article_politics,'label':0})\n",
    "df_economy = pd.DataFrame({'document':article_economy,'label':1})\n",
    "df_society = pd.DataFrame({'document':article_society,'label':2})\n",
    "df_science = pd.DataFrame({'document':article_science,'label':3})\n",
    "df_politics.head()"
   ]
  },
  {
   "cell_type": "code",
   "execution_count": 6,
   "id": "e662740e",
   "metadata": {},
   "outputs": [
    {
     "data": {
      "text/plain": [
       "(1597, 2)"
      ]
     },
     "execution_count": 6,
     "metadata": {},
     "output_type": "execute_result"
    }
   ],
   "source": [
    "df = pd.concat([df_politics,df_economy,df_society,df_science])\n",
    "df.shape"
   ]
  },
  {
   "cell_type": "code",
   "execution_count": 7,
   "id": "907dfd8e",
   "metadata": {},
   "outputs": [],
   "source": [
    "X = df['document']\n",
    "y = df['label']"
   ]
  },
  {
   "cell_type": "code",
   "execution_count": 8,
   "id": "288b0121",
   "metadata": {},
   "outputs": [],
   "source": [
    "from sklearn.model_selection import train_test_split\n",
    "X_train,X_test,y_train,y_test=train_test_split(X,y,test_size=0.2,random_state=0)"
   ]
  },
  {
   "cell_type": "code",
   "execution_count": 9,
   "id": "7cac9473",
   "metadata": {},
   "outputs": [],
   "source": [
    "# 토큰화\n",
    "import konlpy\n",
    "from konlpy.tag import Okt\n",
    "okt = Okt()\n",
    "def okt_tokenizer(text):\n",
    "    # 입력 인자로 들어온 text를 형태소 단어로 토큰화하여 list 객체 반환\n",
    "    tokens_ko = okt.morphs(text)\n",
    "    return tokens_ko"
   ]
  },
  {
   "cell_type": "code",
   "execution_count": 10,
   "id": "61735052",
   "metadata": {},
   "outputs": [],
   "source": [
    "# 정확도 검증\n",
    "from sklearn.feature_extraction.text import TfidfVectorizer\n",
    "from sklearn.linear_model import LogisticRegression\n",
    "from sklearn.model_selection import GridSearchCV\n",
    "import warnings\n",
    "warnings.filterwarnings('ignore')\n",
    "\n",
    "tfidf_vect = TfidfVectorizer(tokenizer=okt_tokenizer, ngram_range=(1,2),min_df=3, max_df=0.9)\n",
    "tfidf_vect.fit(X_train)\n",
    "tfidf_maxrix_train = tfidf_vect.transform(X_train)"
   ]
  },
  {
   "cell_type": "code",
   "execution_count": 11,
   "id": "b44781f4",
   "metadata": {},
   "outputs": [
    {
     "name": "stdout",
     "output_type": "stream",
     "text": [
      "{'C': 10} 0.8442\n"
     ]
    }
   ],
   "source": [
    "lg_clf = LogisticRegression(random_state=0)\n",
    "\n",
    "params = {'C':[10,10.5,12]}\n",
    "\n",
    "grid_cv = GridSearchCV(lg_clf,param_grid=params,cv=3,scoring='accuracy')\n",
    "grid_cv.fit(tfidf_maxrix_train,y_train)\n",
    "print(grid_cv.best_params_,round(grid_cv.best_score_,4))"
   ]
  },
  {
   "cell_type": "code",
   "execution_count": 12,
   "id": "d3978e5b",
   "metadata": {},
   "outputs": [
    {
     "name": "stdout",
     "output_type": "stream",
     "text": [
      "Logistic Regression 정확도: 0.825\n"
     ]
    }
   ],
   "source": [
    "from sklearn.metrics import accuracy_score\n",
    "\n",
    "# 학습 데이터를 적용한 TfidfVectorizer를 이용해 테스트 데이터를 TF-IDF값으로 피처 변환함.\n",
    "tfidf_matrix_test = tfidf_vect.transform(X_test)\n",
    "\n",
    "# Classifier는 GridSearchCV에서 최적 파라미터로 학습된 classifier를 그대로 이용\n",
    "preds = grid_cv.best_estimator_.predict(tfidf_matrix_test)\n",
    "\n",
    "print(f'Logistic Regression 정확도: {accuracy_score(y_test,preds)}')"
   ]
  },
  {
   "cell_type": "code",
   "execution_count": null,
   "id": "806302e2",
   "metadata": {},
   "outputs": [],
   "source": []
  },
  {
   "cell_type": "code",
   "execution_count": null,
   "id": "5d86ee58",
   "metadata": {},
   "outputs": [],
   "source": []
  },
  {
   "cell_type": "code",
   "execution_count": null,
   "id": "12c265ab",
   "metadata": {},
   "outputs": [],
   "source": []
  }
 ],
 "metadata": {
  "kernelspec": {
   "display_name": "Python 3 (ipykernel)",
   "language": "python",
   "name": "python3"
  },
  "language_info": {
   "codemirror_mode": {
    "name": "ipython",
    "version": 3
   },
   "file_extension": ".py",
   "mimetype": "text/x-python",
   "name": "python",
   "nbconvert_exporter": "python",
   "pygments_lexer": "ipython3",
   "version": "3.8.12"
  }
 },
 "nbformat": 4,
 "nbformat_minor": 5
}
