{
 "cells": [
  {
   "cell_type": "code",
   "execution_count": 121,
   "id": "ce3cf263",
   "metadata": {},
   "outputs": [],
   "source": [
    "import pandas as pd\n",
    "import numpy as np"
   ]
  },
  {
   "cell_type": "code",
   "execution_count": 51,
   "id": "c8d7a3e8",
   "metadata": {},
   "outputs": [],
   "source": [
    "a=pd.read_csv('대분류세분류테이블.csv',encoding='cp949')"
   ]
  },
  {
   "cell_type": "code",
   "execution_count": 112,
   "id": "4ef8497b",
   "metadata": {},
   "outputs": [],
   "source": [
    "b=pd.read_csv('17기존고객.csv',encoding='cp949')"
   ]
  },
  {
   "cell_type": "code",
   "execution_count": 50,
   "id": "4f117ac3",
   "metadata": {},
   "outputs": [],
   "source": [
    "c=pd.read_csv('16기존고객.csv',encoding='cp949')"
   ]
  },
  {
   "cell_type": "code",
   "execution_count": 52,
   "id": "da771bd0",
   "metadata": {},
   "outputs": [],
   "source": [
    "h=a[(a['소비재분류']=='기타')]"
   ]
  },
  {
   "cell_type": "code",
   "execution_count": 123,
   "id": "3e12a2e2",
   "metadata": {},
   "outputs": [],
   "source": [
    "# 기타 구매횟수\n",
    "df_pivot_f = pd.pivot_table(h,                # 피벗할 데이터프레임\n",
    "                     index = '고객번호',    # 행 위치에 들어갈 열\n",
    "                     columns = 'QUARTER',    # 열 위치에 들어갈 열\n",
    "                     values = '영수증번호',     # 데이터로 사용할 열\n",
    "                     aggfunc = 'count')   # 데이터 집계함수"
   ]
  },
  {
   "cell_type": "code",
   "execution_count": 124,
   "id": "a74c44c6",
   "metadata": {},
   "outputs": [],
   "source": [
    "df_pivot_f = df_pivot_f.fillna(0)"
   ]
  },
  {
   "cell_type": "code",
   "execution_count": 125,
   "id": "28006a78",
   "metadata": {},
   "outputs": [],
   "source": [
    "df_pivot_f2 = df_pivot_f.drop(['8Q'],axis=1)"
   ]
  },
  {
   "cell_type": "code",
   "execution_count": 126,
   "id": "22f160f2",
   "metadata": {},
   "outputs": [],
   "source": [
    "df_pivot_f2['기타구매횟수'] = df_pivot_f2['1Q'] + df_pivot_f2['2Q'] + df_pivot_f2['3Q'] + df_pivot_f2['4Q'] + df_pivot_f2['5Q']+ df_pivot_f2['6Q']+df_pivot_f2['7Q']"
   ]
  },
  {
   "cell_type": "code",
   "execution_count": 127,
   "id": "dbd31d4c",
   "metadata": {},
   "outputs": [],
   "source": [
    "df_pivot_f2 = df_pivot_f2.drop(['1Q','2Q','3Q','4Q','5Q','6Q','7Q'],axis=1)"
   ]
  },
  {
   "cell_type": "code",
   "execution_count": 128,
   "id": "28ea65cc",
   "metadata": {},
   "outputs": [],
   "source": [
    "# 17기존고객이랑 합침\n",
    "tree=pd.merge(b, df_pivot_f2,on='고객번호', how='left')"
   ]
  },
  {
   "cell_type": "code",
   "execution_count": 129,
   "id": "3e36a577",
   "metadata": {},
   "outputs": [],
   "source": [
    "# 17기존고객의 기타사용횟수\n",
    "tree = tree.fillna(0)"
   ]
  },
  {
   "cell_type": "code",
   "execution_count": 130,
   "id": "c7c04400",
   "metadata": {},
   "outputs": [
    {
     "data": {
      "text/html": [
       "<div>\n",
       "<style scoped>\n",
       "    .dataframe tbody tr th:only-of-type {\n",
       "        vertical-align: middle;\n",
       "    }\n",
       "\n",
       "    .dataframe tbody tr th {\n",
       "        vertical-align: top;\n",
       "    }\n",
       "\n",
       "    .dataframe thead th {\n",
       "        text-align: right;\n",
       "    }\n",
       "</style>\n",
       "<table border=\"1\" class=\"dataframe\">\n",
       "  <thead>\n",
       "    <tr style=\"text-align: right;\">\n",
       "      <th></th>\n",
       "      <th>고객번호</th>\n",
       "      <th>기타구매횟수</th>\n",
       "    </tr>\n",
       "  </thead>\n",
       "  <tbody>\n",
       "    <tr>\n",
       "      <th>0</th>\n",
       "      <td>1</td>\n",
       "      <td>52.0</td>\n",
       "    </tr>\n",
       "    <tr>\n",
       "      <th>1</th>\n",
       "      <td>2</td>\n",
       "      <td>16.0</td>\n",
       "    </tr>\n",
       "    <tr>\n",
       "      <th>2</th>\n",
       "      <td>3</td>\n",
       "      <td>0.0</td>\n",
       "    </tr>\n",
       "    <tr>\n",
       "      <th>3</th>\n",
       "      <td>4</td>\n",
       "      <td>49.0</td>\n",
       "    </tr>\n",
       "    <tr>\n",
       "      <th>4</th>\n",
       "      <td>6</td>\n",
       "      <td>51.0</td>\n",
       "    </tr>\n",
       "    <tr>\n",
       "      <th>...</th>\n",
       "      <td>...</td>\n",
       "      <td>...</td>\n",
       "    </tr>\n",
       "    <tr>\n",
       "      <th>18873</th>\n",
       "      <td>19333</td>\n",
       "      <td>117.0</td>\n",
       "    </tr>\n",
       "    <tr>\n",
       "      <th>18874</th>\n",
       "      <td>19334</td>\n",
       "      <td>16.0</td>\n",
       "    </tr>\n",
       "    <tr>\n",
       "      <th>18875</th>\n",
       "      <td>19335</td>\n",
       "      <td>127.0</td>\n",
       "    </tr>\n",
       "    <tr>\n",
       "      <th>18876</th>\n",
       "      <td>19336</td>\n",
       "      <td>167.0</td>\n",
       "    </tr>\n",
       "    <tr>\n",
       "      <th>18877</th>\n",
       "      <td>19337</td>\n",
       "      <td>0.0</td>\n",
       "    </tr>\n",
       "  </tbody>\n",
       "</table>\n",
       "<p>18878 rows × 2 columns</p>\n",
       "</div>"
      ],
      "text/plain": [
       "        고객번호  기타구매횟수\n",
       "0          1    52.0\n",
       "1          2    16.0\n",
       "2          3     0.0\n",
       "3          4    49.0\n",
       "4          6    51.0\n",
       "...      ...     ...\n",
       "18873  19333   117.0\n",
       "18874  19334    16.0\n",
       "18875  19335   127.0\n",
       "18876  19336   167.0\n",
       "18877  19337     0.0\n",
       "\n",
       "[18878 rows x 2 columns]"
      ]
     },
     "execution_count": 130,
     "metadata": {},
     "output_type": "execute_result"
    }
   ],
   "source": [
    "tree"
   ]
  },
  {
   "cell_type": "code",
   "execution_count": 131,
   "id": "e0b9d133",
   "metadata": {},
   "outputs": [],
   "source": [
    "df_pivot_f3 = df_pivot_f.drop(['8Q','7Q'],axis=1)"
   ]
  },
  {
   "cell_type": "code",
   "execution_count": 132,
   "id": "f62b07b2",
   "metadata": {},
   "outputs": [],
   "source": [
    "df_pivot_f3['기타구매횟수'] = df_pivot_f3['1Q'] + df_pivot_f3['2Q'] + df_pivot_f3['3Q'] + df_pivot_f3['4Q'] + df_pivot_f3['5Q']+ df_pivot_f3['6Q']"
   ]
  },
  {
   "cell_type": "code",
   "execution_count": 133,
   "id": "045d22f6",
   "metadata": {},
   "outputs": [],
   "source": [
    "df_pivot_f3 = df_pivot_f3.drop(['1Q','2Q','3Q','4Q','5Q','6Q'],axis=1)"
   ]
  },
  {
   "cell_type": "code",
   "execution_count": 134,
   "id": "da2f1577",
   "metadata": {},
   "outputs": [],
   "source": [
    "tree2=pd.merge(c, df_pivot_f3,on='고객번호', how='left')"
   ]
  },
  {
   "cell_type": "code",
   "execution_count": 135,
   "id": "58d044be",
   "metadata": {},
   "outputs": [],
   "source": [
    "tree2 = tree2.fillna(0)"
   ]
  },
  {
   "cell_type": "code",
   "execution_count": 136,
   "id": "0681bb3f",
   "metadata": {},
   "outputs": [
    {
     "data": {
      "text/html": [
       "<div>\n",
       "<style scoped>\n",
       "    .dataframe tbody tr th:only-of-type {\n",
       "        vertical-align: middle;\n",
       "    }\n",
       "\n",
       "    .dataframe tbody tr th {\n",
       "        vertical-align: top;\n",
       "    }\n",
       "\n",
       "    .dataframe thead th {\n",
       "        text-align: right;\n",
       "    }\n",
       "</style>\n",
       "<table border=\"1\" class=\"dataframe\">\n",
       "  <thead>\n",
       "    <tr style=\"text-align: right;\">\n",
       "      <th></th>\n",
       "      <th>고객번호</th>\n",
       "      <th>기타구매횟수</th>\n",
       "    </tr>\n",
       "  </thead>\n",
       "  <tbody>\n",
       "    <tr>\n",
       "      <th>0</th>\n",
       "      <td>1</td>\n",
       "      <td>45.0</td>\n",
       "    </tr>\n",
       "    <tr>\n",
       "      <th>1</th>\n",
       "      <td>2</td>\n",
       "      <td>12.0</td>\n",
       "    </tr>\n",
       "    <tr>\n",
       "      <th>2</th>\n",
       "      <td>3</td>\n",
       "      <td>0.0</td>\n",
       "    </tr>\n",
       "    <tr>\n",
       "      <th>3</th>\n",
       "      <td>4</td>\n",
       "      <td>38.0</td>\n",
       "    </tr>\n",
       "    <tr>\n",
       "      <th>4</th>\n",
       "      <td>5</td>\n",
       "      <td>3.0</td>\n",
       "    </tr>\n",
       "    <tr>\n",
       "      <th>...</th>\n",
       "      <td>...</td>\n",
       "      <td>...</td>\n",
       "    </tr>\n",
       "    <tr>\n",
       "      <th>18892</th>\n",
       "      <td>19333</td>\n",
       "      <td>106.0</td>\n",
       "    </tr>\n",
       "    <tr>\n",
       "      <th>18893</th>\n",
       "      <td>19334</td>\n",
       "      <td>16.0</td>\n",
       "    </tr>\n",
       "    <tr>\n",
       "      <th>18894</th>\n",
       "      <td>19335</td>\n",
       "      <td>106.0</td>\n",
       "    </tr>\n",
       "    <tr>\n",
       "      <th>18895</th>\n",
       "      <td>19336</td>\n",
       "      <td>151.0</td>\n",
       "    </tr>\n",
       "    <tr>\n",
       "      <th>18896</th>\n",
       "      <td>19337</td>\n",
       "      <td>0.0</td>\n",
       "    </tr>\n",
       "  </tbody>\n",
       "</table>\n",
       "<p>18897 rows × 2 columns</p>\n",
       "</div>"
      ],
      "text/plain": [
       "        고객번호  기타구매횟수\n",
       "0          1    45.0\n",
       "1          2    12.0\n",
       "2          3     0.0\n",
       "3          4    38.0\n",
       "4          5     3.0\n",
       "...      ...     ...\n",
       "18892  19333   106.0\n",
       "18893  19334    16.0\n",
       "18894  19335   106.0\n",
       "18895  19336   151.0\n",
       "18896  19337     0.0\n",
       "\n",
       "[18897 rows x 2 columns]"
      ]
     },
     "execution_count": 136,
     "metadata": {},
     "output_type": "execute_result"
    }
   ],
   "source": [
    "# 16기\n",
    "tree2"
   ]
  },
  {
   "cell_type": "code",
   "execution_count": null,
   "id": "e7e74cd0",
   "metadata": {},
   "outputs": [],
   "source": []
  },
  {
   "cell_type": "code",
   "execution_count": 137,
   "id": "632cc1df",
   "metadata": {},
   "outputs": [],
   "source": [
    "# 구매금액\n",
    "df_pivot_s2 = pd.pivot_table(h,                # 피벗할 데이터프레임\n",
    "                     index = '고객번호',    # 행 위치에 들어갈 열\n",
    "                     columns = 'QUARTER',    # 열 위치에 들어갈 열\n",
    "                     values = '구매금액',     # 데이터로 사용할 열\n",
    "                     aggfunc = 'sum')   # 데이터 집계함수"
   ]
  },
  {
   "cell_type": "code",
   "execution_count": 138,
   "id": "bed5d174",
   "metadata": {},
   "outputs": [],
   "source": [
    "df_pivot_s2 = df_pivot_s2.fillna(0)"
   ]
  },
  {
   "cell_type": "code",
   "execution_count": 139,
   "id": "89cfd357",
   "metadata": {},
   "outputs": [],
   "source": [
    "df_pivot_s3 = df_pivot_s2.drop(['8Q'],axis=1)"
   ]
  },
  {
   "cell_type": "code",
   "execution_count": 140,
   "id": "86e98ef3",
   "metadata": {},
   "outputs": [],
   "source": [
    "df_pivot_s3.columns = ['기타1','기타2','기타3','기타4','기타5','기타6','기타7']"
   ]
  },
  {
   "cell_type": "code",
   "execution_count": 141,
   "id": "5e839878",
   "metadata": {},
   "outputs": [],
   "source": [
    "df_pivot_s3 = df_pivot_s3.reset_index()"
   ]
  },
  {
   "cell_type": "code",
   "execution_count": 142,
   "id": "50120d73",
   "metadata": {},
   "outputs": [],
   "source": [
    "tree=pd.merge(tree, df_pivot_s3,on='고객번호', how='left')"
   ]
  },
  {
   "cell_type": "code",
   "execution_count": 118,
   "id": "f4eda501",
   "metadata": {},
   "outputs": [],
   "source": [
    "tree = tree.fillna(0)"
   ]
  },
  {
   "cell_type": "code",
   "execution_count": 120,
   "id": "b9c536ef",
   "metadata": {},
   "outputs": [],
   "source": [
    "import csv\n",
    "tree.to_csv('기타테이블17기.csv',mode=\"w\",encoding='euc-kr',index=False)"
   ]
  },
  {
   "cell_type": "code",
   "execution_count": 105,
   "id": "aca62269",
   "metadata": {},
   "outputs": [],
   "source": [
    "df_pivot_s4 = df_pivot_s2.drop(['8Q','7Q'],axis=1)"
   ]
  },
  {
   "cell_type": "code",
   "execution_count": 106,
   "id": "faad0994",
   "metadata": {},
   "outputs": [],
   "source": [
    "df_pivot_s4.columns = ['기타1','기타2','기타3','기타4','기타5','기타6']"
   ]
  },
  {
   "cell_type": "code",
   "execution_count": 107,
   "id": "c5e3b13d",
   "metadata": {},
   "outputs": [],
   "source": [
    "df_pivot_s4 = df_pivot_s4.reset_index()"
   ]
  },
  {
   "cell_type": "code",
   "execution_count": 108,
   "id": "9da419d5",
   "metadata": {},
   "outputs": [],
   "source": [
    "tree2=pd.merge(tree2, df_pivot_s4,on='고객번호', how='left')"
   ]
  },
  {
   "cell_type": "code",
   "execution_count": 109,
   "id": "3db08a14",
   "metadata": {},
   "outputs": [],
   "source": [
    "tree2 = tree2.fillna(0)"
   ]
  },
  {
   "cell_type": "code",
   "execution_count": 111,
   "id": "545fe324",
   "metadata": {},
   "outputs": [],
   "source": [
    "import csv\n",
    "tree2.to_csv('기타테이블16기.csv',mode=\"w\",encoding='euc-kr',index=False)"
   ]
  },
  {
   "cell_type": "code",
   "execution_count": null,
   "id": "9a151de4",
   "metadata": {},
   "outputs": [],
   "source": []
  },
  {
   "cell_type": "code",
   "execution_count": null,
   "id": "c65b82ec",
   "metadata": {},
   "outputs": [],
   "source": []
  }
 ],
 "metadata": {
  "kernelspec": {
   "display_name": "Python 3 (ipykernel)",
   "language": "python",
   "name": "python3"
  },
  "language_info": {
   "codemirror_mode": {
    "name": "ipython",
    "version": 3
   },
   "file_extension": ".py",
   "mimetype": "text/x-python",
   "name": "python",
   "nbconvert_exporter": "python",
   "pygments_lexer": "ipython3",
   "version": "3.8.12"
  }
 },
 "nbformat": 4,
 "nbformat_minor": 5
}
