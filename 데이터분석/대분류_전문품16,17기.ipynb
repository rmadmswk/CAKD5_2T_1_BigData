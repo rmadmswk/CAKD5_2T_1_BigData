{
 "cells": [
  {
   "cell_type": "code",
   "execution_count": 40,
   "id": "03a946e5",
   "metadata": {},
   "outputs": [],
   "source": [
    "import pandas as pd\n",
    "import numpy as np"
   ]
  },
  {
   "cell_type": "code",
   "execution_count": 2,
   "id": "1522d9d3",
   "metadata": {},
   "outputs": [],
   "source": [
    "a=pd.read_csv('대분류세분류테이블.csv',encoding='cp949')"
   ]
  },
  {
   "cell_type": "code",
   "execution_count": 48,
   "id": "4403de7c",
   "metadata": {},
   "outputs": [],
   "source": [
    "b=pd.read_csv('17기존고객.csv',encoding='cp949')"
   ]
  },
  {
   "cell_type": "code",
   "execution_count": 4,
   "id": "bee6bfe4",
   "metadata": {},
   "outputs": [],
   "source": [
    "c=pd.read_csv('16기존고객.csv',encoding='cp949')"
   ]
  },
  {
   "cell_type": "code",
   "execution_count": 5,
   "id": "752fa583",
   "metadata": {},
   "outputs": [],
   "source": [
    "h=a[(a['소비재분류']=='전문품')]"
   ]
  },
  {
   "cell_type": "code",
   "execution_count": 50,
   "id": "004cbfaa",
   "metadata": {},
   "outputs": [],
   "source": [
    "# 선매품 구매횟수\n",
    "df_pivot_f1 = pd.pivot_table(h,                # 피벗할 데이터프레임\n",
    "                     index = '고객번호',    # 행 위치에 들어갈 열\n",
    "                     columns = 'QUARTER',    # 열 위치에 들어갈 열\n",
    "                     values = '영수증번호',     # 데이터로 사용할 열\n",
    "                     aggfunc = 'count')   # 데이터 집계함수"
   ]
  },
  {
   "cell_type": "code",
   "execution_count": 51,
   "id": "39e8209b",
   "metadata": {},
   "outputs": [],
   "source": [
    "df_pivot_f1 = df_pivot_f1.fillna(0)"
   ]
  },
  {
   "cell_type": "code",
   "execution_count": 8,
   "id": "90bf2c7b",
   "metadata": {},
   "outputs": [],
   "source": [
    "# 8기 드랍 테이블\n",
    "df_pivot_f2 = df_pivot_f1.drop(['8Q'],axis=1)"
   ]
  },
  {
   "cell_type": "code",
   "execution_count": 9,
   "id": "6716b955",
   "metadata": {},
   "outputs": [],
   "source": [
    "df_pivot_f2['전문품구매횟수'] = df_pivot_f2['1Q'] + df_pivot_f2['2Q'] + df_pivot_f2['3Q'] + df_pivot_f2['4Q'] + df_pivot_f2['5Q']+ df_pivot_f2['6Q'] + df_pivot_f2['7Q']"
   ]
  },
  {
   "cell_type": "code",
   "execution_count": 10,
   "id": "3efcebe6",
   "metadata": {},
   "outputs": [],
   "source": [
    "df_pivot_f3 = df_pivot_f2.drop(['1Q','2Q','3Q','4Q','5Q','6Q','7Q'],axis=1)"
   ]
  },
  {
   "cell_type": "code",
   "execution_count": 52,
   "id": "5777e304",
   "metadata": {},
   "outputs": [],
   "source": [
    "tree=pd.merge(b, df_pivot_f3,on='고객번호', how='left')"
   ]
  },
  {
   "cell_type": "code",
   "execution_count": 53,
   "id": "c8092040",
   "metadata": {},
   "outputs": [],
   "source": [
    "tree = tree.fillna(0)"
   ]
  },
  {
   "cell_type": "code",
   "execution_count": 54,
   "id": "e3629466",
   "metadata": {},
   "outputs": [
    {
     "data": {
      "text/html": [
       "<div>\n",
       "<style scoped>\n",
       "    .dataframe tbody tr th:only-of-type {\n",
       "        vertical-align: middle;\n",
       "    }\n",
       "\n",
       "    .dataframe tbody tr th {\n",
       "        vertical-align: top;\n",
       "    }\n",
       "\n",
       "    .dataframe thead th {\n",
       "        text-align: right;\n",
       "    }\n",
       "</style>\n",
       "<table border=\"1\" class=\"dataframe\">\n",
       "  <thead>\n",
       "    <tr style=\"text-align: right;\">\n",
       "      <th></th>\n",
       "      <th>고객번호</th>\n",
       "      <th>전문품구매횟수</th>\n",
       "    </tr>\n",
       "  </thead>\n",
       "  <tbody>\n",
       "    <tr>\n",
       "      <th>0</th>\n",
       "      <td>1</td>\n",
       "      <td>3.0</td>\n",
       "    </tr>\n",
       "    <tr>\n",
       "      <th>1</th>\n",
       "      <td>2</td>\n",
       "      <td>5.0</td>\n",
       "    </tr>\n",
       "    <tr>\n",
       "      <th>2</th>\n",
       "      <td>3</td>\n",
       "      <td>0.0</td>\n",
       "    </tr>\n",
       "    <tr>\n",
       "      <th>3</th>\n",
       "      <td>4</td>\n",
       "      <td>1.0</td>\n",
       "    </tr>\n",
       "    <tr>\n",
       "      <th>4</th>\n",
       "      <td>6</td>\n",
       "      <td>5.0</td>\n",
       "    </tr>\n",
       "    <tr>\n",
       "      <th>...</th>\n",
       "      <td>...</td>\n",
       "      <td>...</td>\n",
       "    </tr>\n",
       "    <tr>\n",
       "      <th>18873</th>\n",
       "      <td>19333</td>\n",
       "      <td>0.0</td>\n",
       "    </tr>\n",
       "    <tr>\n",
       "      <th>18874</th>\n",
       "      <td>19334</td>\n",
       "      <td>0.0</td>\n",
       "    </tr>\n",
       "    <tr>\n",
       "      <th>18875</th>\n",
       "      <td>19335</td>\n",
       "      <td>0.0</td>\n",
       "    </tr>\n",
       "    <tr>\n",
       "      <th>18876</th>\n",
       "      <td>19336</td>\n",
       "      <td>4.0</td>\n",
       "    </tr>\n",
       "    <tr>\n",
       "      <th>18877</th>\n",
       "      <td>19337</td>\n",
       "      <td>0.0</td>\n",
       "    </tr>\n",
       "  </tbody>\n",
       "</table>\n",
       "<p>18878 rows × 2 columns</p>\n",
       "</div>"
      ],
      "text/plain": [
       "        고객번호  전문품구매횟수\n",
       "0          1      3.0\n",
       "1          2      5.0\n",
       "2          3      0.0\n",
       "3          4      1.0\n",
       "4          6      5.0\n",
       "...      ...      ...\n",
       "18873  19333      0.0\n",
       "18874  19334      0.0\n",
       "18875  19335      0.0\n",
       "18876  19336      4.0\n",
       "18877  19337      0.0\n",
       "\n",
       "[18878 rows x 2 columns]"
      ]
     },
     "execution_count": 54,
     "metadata": {},
     "output_type": "execute_result"
    }
   ],
   "source": [
    "#17기 전문품 구매횟수\n",
    "tree"
   ]
  },
  {
   "cell_type": "code",
   "execution_count": 17,
   "id": "d8786639",
   "metadata": {},
   "outputs": [],
   "source": [
    "df_pivot_f4 = df_pivot_f1.drop(['8Q','7Q'],axis=1)"
   ]
  },
  {
   "cell_type": "code",
   "execution_count": 18,
   "id": "671986c5",
   "metadata": {},
   "outputs": [],
   "source": [
    "df_pivot_f4['전문품구매횟수'] = df_pivot_f4['1Q'] + df_pivot_f4['2Q'] + df_pivot_f4['3Q'] + df_pivot_f4['4Q'] + df_pivot_f4['5Q']+ df_pivot_f4['6Q']"
   ]
  },
  {
   "cell_type": "code",
   "execution_count": 19,
   "id": "179e4d28",
   "metadata": {},
   "outputs": [],
   "source": [
    "df_pivot_f4 = df_pivot_f4.drop(['1Q','2Q','3Q','4Q','5Q','6Q'],axis=1)"
   ]
  },
  {
   "cell_type": "code",
   "execution_count": 20,
   "id": "8091e8c7",
   "metadata": {},
   "outputs": [],
   "source": [
    "tree2=pd.merge(c, df_pivot_f4,on='고객번호', how='left')"
   ]
  },
  {
   "cell_type": "code",
   "execution_count": 21,
   "id": "4711a1cd",
   "metadata": {},
   "outputs": [],
   "source": [
    "tree2 = tree2.fillna(0)"
   ]
  },
  {
   "cell_type": "code",
   "execution_count": 22,
   "id": "e6041abf",
   "metadata": {},
   "outputs": [
    {
     "data": {
      "text/html": [
       "<div>\n",
       "<style scoped>\n",
       "    .dataframe tbody tr th:only-of-type {\n",
       "        vertical-align: middle;\n",
       "    }\n",
       "\n",
       "    .dataframe tbody tr th {\n",
       "        vertical-align: top;\n",
       "    }\n",
       "\n",
       "    .dataframe thead th {\n",
       "        text-align: right;\n",
       "    }\n",
       "</style>\n",
       "<table border=\"1\" class=\"dataframe\">\n",
       "  <thead>\n",
       "    <tr style=\"text-align: right;\">\n",
       "      <th></th>\n",
       "      <th>고객번호</th>\n",
       "      <th>전문품구매횟수</th>\n",
       "    </tr>\n",
       "  </thead>\n",
       "  <tbody>\n",
       "    <tr>\n",
       "      <th>0</th>\n",
       "      <td>1</td>\n",
       "      <td>3.0</td>\n",
       "    </tr>\n",
       "    <tr>\n",
       "      <th>1</th>\n",
       "      <td>2</td>\n",
       "      <td>5.0</td>\n",
       "    </tr>\n",
       "    <tr>\n",
       "      <th>2</th>\n",
       "      <td>3</td>\n",
       "      <td>0.0</td>\n",
       "    </tr>\n",
       "    <tr>\n",
       "      <th>3</th>\n",
       "      <td>4</td>\n",
       "      <td>0.0</td>\n",
       "    </tr>\n",
       "    <tr>\n",
       "      <th>4</th>\n",
       "      <td>5</td>\n",
       "      <td>1.0</td>\n",
       "    </tr>\n",
       "    <tr>\n",
       "      <th>...</th>\n",
       "      <td>...</td>\n",
       "      <td>...</td>\n",
       "    </tr>\n",
       "    <tr>\n",
       "      <th>18892</th>\n",
       "      <td>19333</td>\n",
       "      <td>0.0</td>\n",
       "    </tr>\n",
       "    <tr>\n",
       "      <th>18893</th>\n",
       "      <td>19334</td>\n",
       "      <td>0.0</td>\n",
       "    </tr>\n",
       "    <tr>\n",
       "      <th>18894</th>\n",
       "      <td>19335</td>\n",
       "      <td>0.0</td>\n",
       "    </tr>\n",
       "    <tr>\n",
       "      <th>18895</th>\n",
       "      <td>19336</td>\n",
       "      <td>2.0</td>\n",
       "    </tr>\n",
       "    <tr>\n",
       "      <th>18896</th>\n",
       "      <td>19337</td>\n",
       "      <td>0.0</td>\n",
       "    </tr>\n",
       "  </tbody>\n",
       "</table>\n",
       "<p>18897 rows × 2 columns</p>\n",
       "</div>"
      ],
      "text/plain": [
       "        고객번호  전문품구매횟수\n",
       "0          1      3.0\n",
       "1          2      5.0\n",
       "2          3      0.0\n",
       "3          4      0.0\n",
       "4          5      1.0\n",
       "...      ...      ...\n",
       "18892  19333      0.0\n",
       "18893  19334      0.0\n",
       "18894  19335      0.0\n",
       "18895  19336      2.0\n",
       "18896  19337      0.0\n",
       "\n",
       "[18897 rows x 2 columns]"
      ]
     },
     "execution_count": 22,
     "metadata": {},
     "output_type": "execute_result"
    }
   ],
   "source": [
    "tree2"
   ]
  },
  {
   "cell_type": "code",
   "execution_count": 23,
   "id": "057475a6",
   "metadata": {},
   "outputs": [],
   "source": [
    "# 구매금액\n",
    "df_pivot_s2 = pd.pivot_table(h,                # 피벗할 데이터프레임\n",
    "                     index = '고객번호',    # 행 위치에 들어갈 열\n",
    "                     columns = 'QUARTER',    # 열 위치에 들어갈 열\n",
    "                     values = '구매금액',     # 데이터로 사용할 열\n",
    "                     aggfunc = 'sum')   # 데이터 집계함수"
   ]
  },
  {
   "cell_type": "code",
   "execution_count": 25,
   "id": "6f268e1d",
   "metadata": {},
   "outputs": [],
   "source": [
    "df_pivot_s2 = df_pivot_s2.fillna(0)"
   ]
  },
  {
   "cell_type": "code",
   "execution_count": 26,
   "id": "2a847d97",
   "metadata": {},
   "outputs": [],
   "source": [
    "df_pivot_s3 = df_pivot_s2.drop(['8Q'],axis=1)"
   ]
  },
  {
   "cell_type": "code",
   "execution_count": 27,
   "id": "e467cf80",
   "metadata": {},
   "outputs": [],
   "source": [
    "df_pivot_s3.columns = ['전문품1','전문품2','전문품3','전문품4','전문품5','전문품6','전문품7']"
   ]
  },
  {
   "cell_type": "code",
   "execution_count": 28,
   "id": "d2381105",
   "metadata": {},
   "outputs": [],
   "source": [
    "df_pivot_s3 = df_pivot_s3.reset_index()"
   ]
  },
  {
   "cell_type": "code",
   "execution_count": 55,
   "id": "037b80b5",
   "metadata": {},
   "outputs": [],
   "source": [
    "tree=pd.merge(tree, df_pivot_s3,on='고객번호', how='left')"
   ]
  },
  {
   "cell_type": "code",
   "execution_count": 56,
   "id": "3f85aa75",
   "metadata": {},
   "outputs": [],
   "source": [
    "tree = tree.fillna(0)"
   ]
  },
  {
   "cell_type": "code",
   "execution_count": 58,
   "id": "f42632fb",
   "metadata": {},
   "outputs": [],
   "source": [
    "import csv\n",
    "tree.to_csv('전문품테이블17기.csv',mode=\"w\",encoding='euc-kr',index=False)"
   ]
  },
  {
   "cell_type": "code",
   "execution_count": null,
   "id": "f5a71ffb",
   "metadata": {},
   "outputs": [],
   "source": []
  },
  {
   "cell_type": "code",
   "execution_count": 33,
   "id": "c1b24226",
   "metadata": {},
   "outputs": [],
   "source": [
    "df_pivot_s4 = df_pivot_s2.drop(['8Q','7Q'],axis=1)"
   ]
  },
  {
   "cell_type": "code",
   "execution_count": 34,
   "id": "e6163750",
   "metadata": {},
   "outputs": [],
   "source": [
    "df_pivot_s4.columns = ['전문품1','전문품2','전문품3','전문품4','전문품5','전문품6']"
   ]
  },
  {
   "cell_type": "code",
   "execution_count": 35,
   "id": "08db5792",
   "metadata": {},
   "outputs": [],
   "source": [
    "df_pivot_s4 = df_pivot_s4.reset_index()"
   ]
  },
  {
   "cell_type": "code",
   "execution_count": 36,
   "id": "91800b8f",
   "metadata": {},
   "outputs": [],
   "source": [
    "tree2=pd.merge(tree2, df_pivot_s4,on='고객번호', how='left')"
   ]
  },
  {
   "cell_type": "code",
   "execution_count": 37,
   "id": "1a47315e",
   "metadata": {},
   "outputs": [],
   "source": [
    "tree2 = tree2.fillna(0)"
   ]
  },
  {
   "cell_type": "code",
   "execution_count": 39,
   "id": "7c8742e2",
   "metadata": {},
   "outputs": [],
   "source": [
    "import csv\n",
    "tree2.to_csv('전문품테이블16기.csv',mode=\"w\",encoding='euc-kr',index=False)"
   ]
  },
  {
   "cell_type": "code",
   "execution_count": null,
   "id": "02a52c25",
   "metadata": {},
   "outputs": [],
   "source": []
  }
 ],
 "metadata": {
  "kernelspec": {
   "display_name": "Python 3 (ipykernel)",
   "language": "python",
   "name": "python3"
  },
  "language_info": {
   "codemirror_mode": {
    "name": "ipython",
    "version": 3
   },
   "file_extension": ".py",
   "mimetype": "text/x-python",
   "name": "python",
   "nbconvert_exporter": "python",
   "pygments_lexer": "ipython3",
   "version": "3.8.12"
  }
 },
 "nbformat": 4,
 "nbformat_minor": 5
}
