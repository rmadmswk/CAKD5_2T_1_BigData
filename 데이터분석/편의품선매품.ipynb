{
 "cells": [
  {
   "cell_type": "code",
   "execution_count": 1,
   "id": "3c2f301f",
   "metadata": {},
   "outputs": [],
   "source": [
    "import pandas as pd\n",
    "import numpy as np"
   ]
  },
  {
   "cell_type": "code",
   "execution_count": 3,
   "id": "3596f5f2",
   "metadata": {},
   "outputs": [],
   "source": [
    "z= pd.read_excel('편의품테이블17기.xlsx')"
   ]
  },
  {
   "cell_type": "code",
   "execution_count": 2,
   "id": "0cc0c20f",
   "metadata": {},
   "outputs": [],
   "source": [
    "z1= pd.read_excel('선매품17.xlsx')"
   ]
  },
  {
   "cell_type": "code",
   "execution_count": 5,
   "id": "8fc57407",
   "metadata": {},
   "outputs": [],
   "source": [
    "z['편의품증감'] = np.where(z['편의품등급1']>=z['편의품등급7'],'0','1')"
   ]
  },
  {
   "cell_type": "code",
   "execution_count": 7,
   "id": "8cadaa52",
   "metadata": {},
   "outputs": [
    {
     "data": {
      "text/plain": [
       "Index(['고객번호', '편의품등급1', '편의품등급2', '편의품등급3', '편의품등급4', '편의품등급5', '편의품등급6',\n",
       "       '편의품등급7', '편의품증감1', '편의품증감2', '편의품증감3', '편의품증감4', '편의품증감5', '편의품증감6',\n",
       "       '변동지수', '편의품증감'],\n",
       "      dtype='object')"
      ]
     },
     "execution_count": 7,
     "metadata": {},
     "output_type": "execute_result"
    }
   ],
   "source": [
    "z.columns"
   ]
  },
  {
   "cell_type": "code",
   "execution_count": 8,
   "id": "ea7a4c4a",
   "metadata": {},
   "outputs": [],
   "source": [
    "z = z.drop(['편의품등급1', '편의품등급2', '편의품등급3', '편의품등급4', '편의품등급5', '편의품등급6',\n",
    "       '편의품등급7', '편의품증감1', '편의품증감2', '편의품증감3', '편의품증감4', '편의품증감5', '편의품증감6'],axis=1)"
   ]
  },
  {
   "cell_type": "code",
   "execution_count": 9,
   "id": "b564ce70",
   "metadata": {},
   "outputs": [
    {
     "data": {
      "text/html": [
       "<div>\n",
       "<style scoped>\n",
       "    .dataframe tbody tr th:only-of-type {\n",
       "        vertical-align: middle;\n",
       "    }\n",
       "\n",
       "    .dataframe tbody tr th {\n",
       "        vertical-align: top;\n",
       "    }\n",
       "\n",
       "    .dataframe thead th {\n",
       "        text-align: right;\n",
       "    }\n",
       "</style>\n",
       "<table border=\"1\" class=\"dataframe\">\n",
       "  <thead>\n",
       "    <tr style=\"text-align: right;\">\n",
       "      <th></th>\n",
       "      <th>고객번호</th>\n",
       "      <th>변동지수</th>\n",
       "      <th>편의품증감</th>\n",
       "    </tr>\n",
       "  </thead>\n",
       "  <tbody>\n",
       "    <tr>\n",
       "      <th>0</th>\n",
       "      <td>1</td>\n",
       "      <td>9</td>\n",
       "      <td>1</td>\n",
       "    </tr>\n",
       "    <tr>\n",
       "      <th>1</th>\n",
       "      <td>2</td>\n",
       "      <td>2</td>\n",
       "      <td>1</td>\n",
       "    </tr>\n",
       "    <tr>\n",
       "      <th>2</th>\n",
       "      <td>3</td>\n",
       "      <td>3</td>\n",
       "      <td>0</td>\n",
       "    </tr>\n",
       "    <tr>\n",
       "      <th>3</th>\n",
       "      <td>4</td>\n",
       "      <td>8</td>\n",
       "      <td>1</td>\n",
       "    </tr>\n",
       "    <tr>\n",
       "      <th>4</th>\n",
       "      <td>6</td>\n",
       "      <td>8</td>\n",
       "      <td>0</td>\n",
       "    </tr>\n",
       "    <tr>\n",
       "      <th>...</th>\n",
       "      <td>...</td>\n",
       "      <td>...</td>\n",
       "      <td>...</td>\n",
       "    </tr>\n",
       "    <tr>\n",
       "      <th>18873</th>\n",
       "      <td>19333</td>\n",
       "      <td>8</td>\n",
       "      <td>1</td>\n",
       "    </tr>\n",
       "    <tr>\n",
       "      <th>18874</th>\n",
       "      <td>19334</td>\n",
       "      <td>12</td>\n",
       "      <td>1</td>\n",
       "    </tr>\n",
       "    <tr>\n",
       "      <th>18875</th>\n",
       "      <td>19335</td>\n",
       "      <td>6</td>\n",
       "      <td>0</td>\n",
       "    </tr>\n",
       "    <tr>\n",
       "      <th>18876</th>\n",
       "      <td>19336</td>\n",
       "      <td>8</td>\n",
       "      <td>0</td>\n",
       "    </tr>\n",
       "    <tr>\n",
       "      <th>18877</th>\n",
       "      <td>19337</td>\n",
       "      <td>4</td>\n",
       "      <td>0</td>\n",
       "    </tr>\n",
       "  </tbody>\n",
       "</table>\n",
       "<p>18878 rows × 3 columns</p>\n",
       "</div>"
      ],
      "text/plain": [
       "        고객번호  변동지수 편의품증감\n",
       "0          1     9     1\n",
       "1          2     2     1\n",
       "2          3     3     0\n",
       "3          4     8     1\n",
       "4          6     8     0\n",
       "...      ...   ...   ...\n",
       "18873  19333     8     1\n",
       "18874  19334    12     1\n",
       "18875  19335     6     0\n",
       "18876  19336     8     0\n",
       "18877  19337     4     0\n",
       "\n",
       "[18878 rows x 3 columns]"
      ]
     },
     "execution_count": 9,
     "metadata": {},
     "output_type": "execute_result"
    }
   ],
   "source": [
    "z"
   ]
  },
  {
   "cell_type": "code",
   "execution_count": 10,
   "id": "f36ec67a",
   "metadata": {},
   "outputs": [],
   "source": [
    "z1['선매품증감'] = np.where(z1['선매품등급1']>=z1['선매품등급7'],'0','1')"
   ]
  },
  {
   "cell_type": "code",
   "execution_count": 11,
   "id": "da04f599",
   "metadata": {},
   "outputs": [
    {
     "data": {
      "text/plain": [
       "Index(['고객번호', '선매품등급1', '선매품등급2', '선매품등급3', '선매품등급4', '선매품등급5', '선매품등급6',\n",
       "       '선매품등급7', '선매품증감1', '선매품증감2', '선매품증감3', '선매품증감4', '선매품증감5', '선매품증감6',\n",
       "       '변동지수', '선매품증감'],\n",
       "      dtype='object')"
      ]
     },
     "execution_count": 11,
     "metadata": {},
     "output_type": "execute_result"
    }
   ],
   "source": [
    "z1.columns"
   ]
  },
  {
   "cell_type": "code",
   "execution_count": 12,
   "id": "d7647e03",
   "metadata": {},
   "outputs": [],
   "source": [
    "z1 = z1.drop(['선매품등급1', '선매품등급2', '선매품등급3', '선매품등급4', '선매품등급5', '선매품등급6',\n",
    "       '선매품등급7', '선매품증감1', '선매품증감2', '선매품증감3', '선매품증감4', '선매품증감5', '선매품증감6'],axis=1)"
   ]
  },
  {
   "cell_type": "code",
   "execution_count": 13,
   "id": "3958b8aa",
   "metadata": {},
   "outputs": [
    {
     "data": {
      "text/html": [
       "<div>\n",
       "<style scoped>\n",
       "    .dataframe tbody tr th:only-of-type {\n",
       "        vertical-align: middle;\n",
       "    }\n",
       "\n",
       "    .dataframe tbody tr th {\n",
       "        vertical-align: top;\n",
       "    }\n",
       "\n",
       "    .dataframe thead th {\n",
       "        text-align: right;\n",
       "    }\n",
       "</style>\n",
       "<table border=\"1\" class=\"dataframe\">\n",
       "  <thead>\n",
       "    <tr style=\"text-align: right;\">\n",
       "      <th></th>\n",
       "      <th>고객번호</th>\n",
       "      <th>변동지수</th>\n",
       "      <th>선매품증감</th>\n",
       "    </tr>\n",
       "  </thead>\n",
       "  <tbody>\n",
       "    <tr>\n",
       "      <th>0</th>\n",
       "      <td>1</td>\n",
       "      <td>0</td>\n",
       "      <td>0</td>\n",
       "    </tr>\n",
       "    <tr>\n",
       "      <th>1</th>\n",
       "      <td>2</td>\n",
       "      <td>3</td>\n",
       "      <td>0</td>\n",
       "    </tr>\n",
       "    <tr>\n",
       "      <th>2</th>\n",
       "      <td>3</td>\n",
       "      <td>4</td>\n",
       "      <td>0</td>\n",
       "    </tr>\n",
       "    <tr>\n",
       "      <th>3</th>\n",
       "      <td>4</td>\n",
       "      <td>4</td>\n",
       "      <td>0</td>\n",
       "    </tr>\n",
       "    <tr>\n",
       "      <th>4</th>\n",
       "      <td>6</td>\n",
       "      <td>2</td>\n",
       "      <td>0</td>\n",
       "    </tr>\n",
       "    <tr>\n",
       "      <th>...</th>\n",
       "      <td>...</td>\n",
       "      <td>...</td>\n",
       "      <td>...</td>\n",
       "    </tr>\n",
       "    <tr>\n",
       "      <th>18873</th>\n",
       "      <td>19333</td>\n",
       "      <td>5</td>\n",
       "      <td>1</td>\n",
       "    </tr>\n",
       "    <tr>\n",
       "      <th>18874</th>\n",
       "      <td>19334</td>\n",
       "      <td>6</td>\n",
       "      <td>0</td>\n",
       "    </tr>\n",
       "    <tr>\n",
       "      <th>18875</th>\n",
       "      <td>19335</td>\n",
       "      <td>5</td>\n",
       "      <td>0</td>\n",
       "    </tr>\n",
       "    <tr>\n",
       "      <th>18876</th>\n",
       "      <td>19336</td>\n",
       "      <td>5</td>\n",
       "      <td>0</td>\n",
       "    </tr>\n",
       "    <tr>\n",
       "      <th>18877</th>\n",
       "      <td>19337</td>\n",
       "      <td>6</td>\n",
       "      <td>0</td>\n",
       "    </tr>\n",
       "  </tbody>\n",
       "</table>\n",
       "<p>18878 rows × 3 columns</p>\n",
       "</div>"
      ],
      "text/plain": [
       "        고객번호  변동지수 선매품증감\n",
       "0          1     0     0\n",
       "1          2     3     0\n",
       "2          3     4     0\n",
       "3          4     4     0\n",
       "4          6     2     0\n",
       "...      ...   ...   ...\n",
       "18873  19333     5     1\n",
       "18874  19334     6     0\n",
       "18875  19335     5     0\n",
       "18876  19336     5     0\n",
       "18877  19337     6     0\n",
       "\n",
       "[18878 rows x 3 columns]"
      ]
     },
     "execution_count": 13,
     "metadata": {},
     "output_type": "execute_result"
    }
   ],
   "source": [
    "z1"
   ]
  },
  {
   "cell_type": "code",
   "execution_count": 14,
   "id": "56f5679c",
   "metadata": {},
   "outputs": [],
   "source": [
    "hp = pd.merge(z,z1,on='고객번호',how ='left')"
   ]
  },
  {
   "cell_type": "code",
   "execution_count": 16,
   "id": "cf7e0283",
   "metadata": {},
   "outputs": [],
   "source": [
    "hp.columns=['고객번호','편의품변동','편의품증감','선매품변동','선매품증감']"
   ]
  },
  {
   "cell_type": "code",
   "execution_count": 19,
   "id": "fa25e420",
   "metadata": {},
   "outputs": [],
   "source": [
    "import csv\n",
    "hp.to_csv('대분류증감16.csv',mode=\"w\",encoding='euc-kr',index=False)"
   ]
  },
  {
   "cell_type": "code",
   "execution_count": null,
   "id": "746cff9d",
   "metadata": {},
   "outputs": [],
   "source": []
  },
  {
   "cell_type": "code",
   "execution_count": 30,
   "id": "b29a8359",
   "metadata": {},
   "outputs": [],
   "source": [
    "z= pd.read_excel('편의품테이블17기.xlsx')"
   ]
  },
  {
   "cell_type": "code",
   "execution_count": 27,
   "id": "0fa24445",
   "metadata": {},
   "outputs": [
    {
     "data": {
      "text/plain": [
       "Index(['고객번호', '편의품등급1', '편의품등급2', '편의품등급3', '편의품등급4', '편의품등급5', '편의품등급6',\n",
       "       '편의품등급7', '편의품증감1', '편의품증감2', '편의품증감3', '편의품증감4', '편의품증감5', '편의품증감6',\n",
       "       '변동지수', '편의품증감'],\n",
       "      dtype='object')"
      ]
     },
     "execution_count": 27,
     "metadata": {},
     "output_type": "execute_result"
    }
   ],
   "source": [
    "z.columns"
   ]
  },
  {
   "cell_type": "code",
   "execution_count": 32,
   "id": "0553678b",
   "metadata": {},
   "outputs": [],
   "source": [
    "z['편의품증감'] = np.where(z['편의품등급1']>=z['편의품등급6'],'0','1')"
   ]
  },
  {
   "cell_type": "code",
   "execution_count": 33,
   "id": "08e684e9",
   "metadata": {},
   "outputs": [],
   "source": [
    "z = z.drop(['편의품등급1', '편의품등급2', '편의품등급3', '편의품등급4', '편의품등급5', '편의품등급6',\n",
    "       '편의품등급7', '편의품증감1', '편의품증감2', '편의품증감3', '편의품증감4', '편의품증감5', '편의품증감6'],axis=1)"
   ]
  },
  {
   "cell_type": "code",
   "execution_count": 34,
   "id": "b556e8cd",
   "metadata": {},
   "outputs": [
    {
     "data": {
      "text/html": [
       "<div>\n",
       "<style scoped>\n",
       "    .dataframe tbody tr th:only-of-type {\n",
       "        vertical-align: middle;\n",
       "    }\n",
       "\n",
       "    .dataframe tbody tr th {\n",
       "        vertical-align: top;\n",
       "    }\n",
       "\n",
       "    .dataframe thead th {\n",
       "        text-align: right;\n",
       "    }\n",
       "</style>\n",
       "<table border=\"1\" class=\"dataframe\">\n",
       "  <thead>\n",
       "    <tr style=\"text-align: right;\">\n",
       "      <th></th>\n",
       "      <th>고객번호</th>\n",
       "      <th>변동지수</th>\n",
       "      <th>편의품증감</th>\n",
       "    </tr>\n",
       "  </thead>\n",
       "  <tbody>\n",
       "    <tr>\n",
       "      <th>0</th>\n",
       "      <td>1</td>\n",
       "      <td>14</td>\n",
       "      <td>1</td>\n",
       "    </tr>\n",
       "    <tr>\n",
       "      <th>1</th>\n",
       "      <td>2</td>\n",
       "      <td>4</td>\n",
       "      <td>0</td>\n",
       "    </tr>\n",
       "    <tr>\n",
       "      <th>2</th>\n",
       "      <td>3</td>\n",
       "      <td>4</td>\n",
       "      <td>1</td>\n",
       "    </tr>\n",
       "    <tr>\n",
       "      <th>3</th>\n",
       "      <td>4</td>\n",
       "      <td>9</td>\n",
       "      <td>0</td>\n",
       "    </tr>\n",
       "    <tr>\n",
       "      <th>4</th>\n",
       "      <td>6</td>\n",
       "      <td>13</td>\n",
       "      <td>1</td>\n",
       "    </tr>\n",
       "    <tr>\n",
       "      <th>...</th>\n",
       "      <td>...</td>\n",
       "      <td>...</td>\n",
       "      <td>...</td>\n",
       "    </tr>\n",
       "    <tr>\n",
       "      <th>18873</th>\n",
       "      <td>19333</td>\n",
       "      <td>8</td>\n",
       "      <td>1</td>\n",
       "    </tr>\n",
       "    <tr>\n",
       "      <th>18874</th>\n",
       "      <td>19334</td>\n",
       "      <td>14</td>\n",
       "      <td>1</td>\n",
       "    </tr>\n",
       "    <tr>\n",
       "      <th>18875</th>\n",
       "      <td>19335</td>\n",
       "      <td>8</td>\n",
       "      <td>0</td>\n",
       "    </tr>\n",
       "    <tr>\n",
       "      <th>18876</th>\n",
       "      <td>19336</td>\n",
       "      <td>9</td>\n",
       "      <td>0</td>\n",
       "    </tr>\n",
       "    <tr>\n",
       "      <th>18877</th>\n",
       "      <td>19337</td>\n",
       "      <td>7</td>\n",
       "      <td>0</td>\n",
       "    </tr>\n",
       "  </tbody>\n",
       "</table>\n",
       "<p>18878 rows × 3 columns</p>\n",
       "</div>"
      ],
      "text/plain": [
       "        고객번호  변동지수 편의품증감\n",
       "0          1    14     1\n",
       "1          2     4     0\n",
       "2          3     4     1\n",
       "3          4     9     0\n",
       "4          6    13     1\n",
       "...      ...   ...   ...\n",
       "18873  19333     8     1\n",
       "18874  19334    14     1\n",
       "18875  19335     8     0\n",
       "18876  19336     9     0\n",
       "18877  19337     7     0\n",
       "\n",
       "[18878 rows x 3 columns]"
      ]
     },
     "execution_count": 34,
     "metadata": {},
     "output_type": "execute_result"
    }
   ],
   "source": [
    "z"
   ]
  },
  {
   "cell_type": "code",
   "execution_count": 31,
   "id": "d9869178",
   "metadata": {},
   "outputs": [],
   "source": [
    "z1= pd.read_excel('선매품17.xlsx')"
   ]
  },
  {
   "cell_type": "code",
   "execution_count": 36,
   "id": "3aec2a8b",
   "metadata": {},
   "outputs": [
    {
     "data": {
      "text/plain": [
       "Index(['고객번호', '선매품등급1', '선매품등급2', '선매품등급3', '선매품등급4', '선매품등급5', '선매품등급6',\n",
       "       '선매품등급7', '선매품증감1', '선매품증감2', '선매품증감3', '선매품증감4', '선매품증감5', '선매품증감6',\n",
       "       '변동지수', '선매품증감'],\n",
       "      dtype='object')"
      ]
     },
     "execution_count": 36,
     "metadata": {},
     "output_type": "execute_result"
    }
   ],
   "source": [
    "z1.columns"
   ]
  },
  {
   "cell_type": "code",
   "execution_count": 35,
   "id": "d4a52f36",
   "metadata": {},
   "outputs": [],
   "source": [
    "z1['선매품증감'] = np.where(z1['선매품등급1']>=z1['선매품등급6'],'0','1')"
   ]
  },
  {
   "cell_type": "code",
   "execution_count": 37,
   "id": "3a4d62d3",
   "metadata": {},
   "outputs": [],
   "source": [
    "z1 = z1.drop(['선매품등급1', '선매품등급2', '선매품등급3', '선매품등급4', '선매품등급5', '선매품등급6',\n",
    "       '선매품등급7', '선매품증감1', '선매품증감2', '선매품증감3', '선매품증감4', '선매품증감5', '선매품증감6'],axis=1)"
   ]
  },
  {
   "cell_type": "code",
   "execution_count": 38,
   "id": "405bbe41",
   "metadata": {},
   "outputs": [
    {
     "data": {
      "text/html": [
       "<div>\n",
       "<style scoped>\n",
       "    .dataframe tbody tr th:only-of-type {\n",
       "        vertical-align: middle;\n",
       "    }\n",
       "\n",
       "    .dataframe tbody tr th {\n",
       "        vertical-align: top;\n",
       "    }\n",
       "\n",
       "    .dataframe thead th {\n",
       "        text-align: right;\n",
       "    }\n",
       "</style>\n",
       "<table border=\"1\" class=\"dataframe\">\n",
       "  <thead>\n",
       "    <tr style=\"text-align: right;\">\n",
       "      <th></th>\n",
       "      <th>고객번호</th>\n",
       "      <th>변동지수</th>\n",
       "      <th>선매품증감</th>\n",
       "    </tr>\n",
       "  </thead>\n",
       "  <tbody>\n",
       "    <tr>\n",
       "      <th>0</th>\n",
       "      <td>1</td>\n",
       "      <td>0</td>\n",
       "      <td>0</td>\n",
       "    </tr>\n",
       "    <tr>\n",
       "      <th>1</th>\n",
       "      <td>2</td>\n",
       "      <td>4</td>\n",
       "      <td>1</td>\n",
       "    </tr>\n",
       "    <tr>\n",
       "      <th>2</th>\n",
       "      <td>3</td>\n",
       "      <td>4</td>\n",
       "      <td>0</td>\n",
       "    </tr>\n",
       "    <tr>\n",
       "      <th>3</th>\n",
       "      <td>4</td>\n",
       "      <td>5</td>\n",
       "      <td>0</td>\n",
       "    </tr>\n",
       "    <tr>\n",
       "      <th>4</th>\n",
       "      <td>6</td>\n",
       "      <td>3</td>\n",
       "      <td>0</td>\n",
       "    </tr>\n",
       "    <tr>\n",
       "      <th>...</th>\n",
       "      <td>...</td>\n",
       "      <td>...</td>\n",
       "      <td>...</td>\n",
       "    </tr>\n",
       "    <tr>\n",
       "      <th>18873</th>\n",
       "      <td>19333</td>\n",
       "      <td>6</td>\n",
       "      <td>1</td>\n",
       "    </tr>\n",
       "    <tr>\n",
       "      <th>18874</th>\n",
       "      <td>19334</td>\n",
       "      <td>9</td>\n",
       "      <td>0</td>\n",
       "    </tr>\n",
       "    <tr>\n",
       "      <th>18875</th>\n",
       "      <td>19335</td>\n",
       "      <td>6</td>\n",
       "      <td>0</td>\n",
       "    </tr>\n",
       "    <tr>\n",
       "      <th>18876</th>\n",
       "      <td>19336</td>\n",
       "      <td>6</td>\n",
       "      <td>0</td>\n",
       "    </tr>\n",
       "    <tr>\n",
       "      <th>18877</th>\n",
       "      <td>19337</td>\n",
       "      <td>6</td>\n",
       "      <td>0</td>\n",
       "    </tr>\n",
       "  </tbody>\n",
       "</table>\n",
       "<p>18878 rows × 3 columns</p>\n",
       "</div>"
      ],
      "text/plain": [
       "        고객번호  변동지수 선매품증감\n",
       "0          1     0     0\n",
       "1          2     4     1\n",
       "2          3     4     0\n",
       "3          4     5     0\n",
       "4          6     3     0\n",
       "...      ...   ...   ...\n",
       "18873  19333     6     1\n",
       "18874  19334     9     0\n",
       "18875  19335     6     0\n",
       "18876  19336     6     0\n",
       "18877  19337     6     0\n",
       "\n",
       "[18878 rows x 3 columns]"
      ]
     },
     "execution_count": 38,
     "metadata": {},
     "output_type": "execute_result"
    }
   ],
   "source": [
    "z1"
   ]
  },
  {
   "cell_type": "code",
   "execution_count": 39,
   "id": "583c5aad",
   "metadata": {},
   "outputs": [],
   "source": [
    "hp = pd.merge(z,z1,on='고객번호',how ='left')"
   ]
  },
  {
   "cell_type": "code",
   "execution_count": 40,
   "id": "f5fc5d94",
   "metadata": {},
   "outputs": [],
   "source": [
    "hp.columns=['고객번호','편의품변동','편의품증감','선매품변동','선매품증감']"
   ]
  },
  {
   "cell_type": "code",
   "execution_count": 41,
   "id": "bdc37943",
   "metadata": {},
   "outputs": [],
   "source": [
    "import csv\n",
    "hp.to_csv('대분류증감17.csv',mode=\"w\",encoding='euc-kr',index=False)"
   ]
  },
  {
   "cell_type": "code",
   "execution_count": 47,
   "id": "7005ba79",
   "metadata": {},
   "outputs": [],
   "source": [
    "t = pd.read_csv('대분류증감17.csv',encoding='cp949')"
   ]
  },
  {
   "cell_type": "code",
   "execution_count": 48,
   "id": "e3a51479",
   "metadata": {},
   "outputs": [],
   "source": [
    "p = pd.read_csv('3.22.csv',encoding='cp949')"
   ]
  },
  {
   "cell_type": "code",
   "execution_count": 50,
   "id": "e7301df4",
   "metadata": {},
   "outputs": [],
   "source": [
    "p = p[['고객번호']]"
   ]
  },
  {
   "cell_type": "code",
   "execution_count": 51,
   "id": "d7703c86",
   "metadata": {},
   "outputs": [],
   "source": [
    "q = pd.merge(p,t,on='고객번호',how='left')"
   ]
  },
  {
   "cell_type": "code",
   "execution_count": 53,
   "id": "372cdc69",
   "metadata": {},
   "outputs": [],
   "source": [
    "import csv\n",
    "q.to_csv('대분류증감17.csv',mode=\"w\",encoding='euc-kr',index=False)"
   ]
  },
  {
   "cell_type": "code",
   "execution_count": 54,
   "id": "4aa67e21",
   "metadata": {},
   "outputs": [],
   "source": [
    "t = pd.read_csv('대분류증감17.csv',encoding='cp949')"
   ]
  },
  {
   "cell_type": "code",
   "execution_count": 55,
   "id": "c8e0f553",
   "metadata": {},
   "outputs": [
    {
     "data": {
      "text/html": [
       "<div>\n",
       "<style scoped>\n",
       "    .dataframe tbody tr th:only-of-type {\n",
       "        vertical-align: middle;\n",
       "    }\n",
       "\n",
       "    .dataframe tbody tr th {\n",
       "        vertical-align: top;\n",
       "    }\n",
       "\n",
       "    .dataframe thead th {\n",
       "        text-align: right;\n",
       "    }\n",
       "</style>\n",
       "<table border=\"1\" class=\"dataframe\">\n",
       "  <thead>\n",
       "    <tr style=\"text-align: right;\">\n",
       "      <th></th>\n",
       "      <th>고객번호</th>\n",
       "      <th>편의품변동</th>\n",
       "      <th>편의품증감</th>\n",
       "      <th>선매품변동</th>\n",
       "      <th>선매품증감</th>\n",
       "    </tr>\n",
       "  </thead>\n",
       "  <tbody>\n",
       "    <tr>\n",
       "      <th>0</th>\n",
       "      <td>1</td>\n",
       "      <td>14</td>\n",
       "      <td>1</td>\n",
       "      <td>0</td>\n",
       "      <td>0</td>\n",
       "    </tr>\n",
       "    <tr>\n",
       "      <th>1</th>\n",
       "      <td>2</td>\n",
       "      <td>4</td>\n",
       "      <td>0</td>\n",
       "      <td>4</td>\n",
       "      <td>1</td>\n",
       "    </tr>\n",
       "    <tr>\n",
       "      <th>2</th>\n",
       "      <td>3</td>\n",
       "      <td>4</td>\n",
       "      <td>1</td>\n",
       "      <td>4</td>\n",
       "      <td>0</td>\n",
       "    </tr>\n",
       "    <tr>\n",
       "      <th>3</th>\n",
       "      <td>4</td>\n",
       "      <td>9</td>\n",
       "      <td>0</td>\n",
       "      <td>5</td>\n",
       "      <td>0</td>\n",
       "    </tr>\n",
       "    <tr>\n",
       "      <th>4</th>\n",
       "      <td>6</td>\n",
       "      <td>13</td>\n",
       "      <td>1</td>\n",
       "      <td>3</td>\n",
       "      <td>0</td>\n",
       "    </tr>\n",
       "    <tr>\n",
       "      <th>...</th>\n",
       "      <td>...</td>\n",
       "      <td>...</td>\n",
       "      <td>...</td>\n",
       "      <td>...</td>\n",
       "      <td>...</td>\n",
       "    </tr>\n",
       "    <tr>\n",
       "      <th>18861</th>\n",
       "      <td>19333</td>\n",
       "      <td>8</td>\n",
       "      <td>1</td>\n",
       "      <td>6</td>\n",
       "      <td>1</td>\n",
       "    </tr>\n",
       "    <tr>\n",
       "      <th>18862</th>\n",
       "      <td>19334</td>\n",
       "      <td>14</td>\n",
       "      <td>1</td>\n",
       "      <td>9</td>\n",
       "      <td>0</td>\n",
       "    </tr>\n",
       "    <tr>\n",
       "      <th>18863</th>\n",
       "      <td>19335</td>\n",
       "      <td>8</td>\n",
       "      <td>0</td>\n",
       "      <td>6</td>\n",
       "      <td>0</td>\n",
       "    </tr>\n",
       "    <tr>\n",
       "      <th>18864</th>\n",
       "      <td>19336</td>\n",
       "      <td>9</td>\n",
       "      <td>0</td>\n",
       "      <td>6</td>\n",
       "      <td>0</td>\n",
       "    </tr>\n",
       "    <tr>\n",
       "      <th>18865</th>\n",
       "      <td>19337</td>\n",
       "      <td>7</td>\n",
       "      <td>0</td>\n",
       "      <td>6</td>\n",
       "      <td>0</td>\n",
       "    </tr>\n",
       "  </tbody>\n",
       "</table>\n",
       "<p>18866 rows × 5 columns</p>\n",
       "</div>"
      ],
      "text/plain": [
       "        고객번호  편의품변동  편의품증감  선매품변동  선매품증감\n",
       "0          1     14      1      0      0\n",
       "1          2      4      0      4      1\n",
       "2          3      4      1      4      0\n",
       "3          4      9      0      5      0\n",
       "4          6     13      1      3      0\n",
       "...      ...    ...    ...    ...    ...\n",
       "18861  19333      8      1      6      1\n",
       "18862  19334     14      1      9      0\n",
       "18863  19335      8      0      6      0\n",
       "18864  19336      9      0      6      0\n",
       "18865  19337      7      0      6      0\n",
       "\n",
       "[18866 rows x 5 columns]"
      ]
     },
     "execution_count": 55,
     "metadata": {},
     "output_type": "execute_result"
    }
   ],
   "source": [
    "t"
   ]
  }
 ],
 "metadata": {
  "kernelspec": {
   "display_name": "Python 3 (ipykernel)",
   "language": "python",
   "name": "python3"
  },
  "language_info": {
   "codemirror_mode": {
    "name": "ipython",
    "version": 3
   },
   "file_extension": ".py",
   "mimetype": "text/x-python",
   "name": "python",
   "nbconvert_exporter": "python",
   "pygments_lexer": "ipython3",
   "version": "3.8.12"
  }
 },
 "nbformat": 4,
 "nbformat_minor": 5
}
