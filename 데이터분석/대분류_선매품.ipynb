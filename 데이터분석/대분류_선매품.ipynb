{
 "cells": [
  {
   "cell_type": "code",
   "execution_count": 162,
   "id": "9f05c95f",
   "metadata": {},
   "outputs": [],
   "source": [
    "import pandas as pd\n",
    "import numpy as np"
   ]
  },
  {
   "cell_type": "code",
   "execution_count": 163,
   "id": "a2288e01",
   "metadata": {},
   "outputs": [],
   "source": [
    "a=pd.read_csv('대분류세분류테이블.csv',encoding='cp949')"
   ]
  },
  {
   "cell_type": "code",
   "execution_count": 220,
   "id": "38e8bdb1",
   "metadata": {},
   "outputs": [],
   "source": [
    "b=pd.read_csv('17기존고객.csv',encoding='cp949')"
   ]
  },
  {
   "cell_type": "code",
   "execution_count": 221,
   "id": "825ed49c",
   "metadata": {},
   "outputs": [],
   "source": [
    "c=pd.read_csv('16기존고객.csv',encoding='cp949')"
   ]
  },
  {
   "cell_type": "code",
   "execution_count": 165,
   "id": "49994cfe",
   "metadata": {},
   "outputs": [],
   "source": [
    "h=a[(a['소비재분류']=='선매품')]"
   ]
  },
  {
   "cell_type": "code",
   "execution_count": 166,
   "id": "a4176786",
   "metadata": {},
   "outputs": [],
   "source": [
    "# 선매품 구매횟수\n",
    "df_pivot_f1 = pd.pivot_table(h,                # 피벗할 데이터프레임\n",
    "                     index = '고객번호',    # 행 위치에 들어갈 열\n",
    "                     columns = 'QUARTER',    # 열 위치에 들어갈 열\n",
    "                     values = '영수증번호',     # 데이터로 사용할 열\n",
    "                     aggfunc = 'count')   # 데이터 집계함수"
   ]
  },
  {
   "cell_type": "code",
   "execution_count": 167,
   "id": "2eff3d10",
   "metadata": {},
   "outputs": [],
   "source": [
    "df_pivot_f1 = df_pivot_f1.fillna(0)"
   ]
  },
  {
   "cell_type": "code",
   "execution_count": 168,
   "id": "b7353e66",
   "metadata": {},
   "outputs": [],
   "source": [
    "# 8기 드랍 테이블\n",
    "df_pivot_f2 = df_pivot_f1.drop(['8Q'],axis=1)"
   ]
  },
  {
   "cell_type": "code",
   "execution_count": 169,
   "id": "a66e8790",
   "metadata": {},
   "outputs": [],
   "source": [
    "df_pivot_f2['선매품구매횟수'] = df_pivot_f2['1Q'] + df_pivot_f2['2Q'] + df_pivot_f2['3Q'] + df_pivot_f2['4Q'] + df_pivot_f2['5Q']+ df_pivot_f2['6Q'] + df_pivot_f2['7Q']"
   ]
  },
  {
   "cell_type": "code",
   "execution_count": 170,
   "id": "4385ae97",
   "metadata": {},
   "outputs": [],
   "source": [
    "df_pivot_f3 = df_pivot_f2.drop(['1Q','2Q','3Q','4Q','5Q','6Q','7Q'],axis=1)"
   ]
  },
  {
   "cell_type": "code",
   "execution_count": 171,
   "id": "65dde364",
   "metadata": {},
   "outputs": [],
   "source": [
    "# 7기까지 기존고객과 7기까지 총구매횟수 합침\n",
    "tree=pd.merge(b, df_pivot_f3,on='고객번호', how='left')"
   ]
  },
  {
   "cell_type": "code",
   "execution_count": 172,
   "id": "14b82b7a",
   "metadata": {},
   "outputs": [],
   "source": [
    "tree = tree.fillna(0)"
   ]
  },
  {
   "cell_type": "code",
   "execution_count": 173,
   "id": "93799bd4",
   "metadata": {},
   "outputs": [
    {
     "data": {
      "text/html": [
       "<div>\n",
       "<style scoped>\n",
       "    .dataframe tbody tr th:only-of-type {\n",
       "        vertical-align: middle;\n",
       "    }\n",
       "\n",
       "    .dataframe tbody tr th {\n",
       "        vertical-align: top;\n",
       "    }\n",
       "\n",
       "    .dataframe thead th {\n",
       "        text-align: right;\n",
       "    }\n",
       "</style>\n",
       "<table border=\"1\" class=\"dataframe\">\n",
       "  <thead>\n",
       "    <tr style=\"text-align: right;\">\n",
       "      <th></th>\n",
       "      <th>고객번호</th>\n",
       "      <th>선매품구매횟수</th>\n",
       "    </tr>\n",
       "  </thead>\n",
       "  <tbody>\n",
       "    <tr>\n",
       "      <th>0</th>\n",
       "      <td>1</td>\n",
       "      <td>306.0</td>\n",
       "    </tr>\n",
       "    <tr>\n",
       "      <th>1</th>\n",
       "      <td>2</td>\n",
       "      <td>262.0</td>\n",
       "    </tr>\n",
       "    <tr>\n",
       "      <th>2</th>\n",
       "      <td>3</td>\n",
       "      <td>2.0</td>\n",
       "    </tr>\n",
       "    <tr>\n",
       "      <th>3</th>\n",
       "      <td>4</td>\n",
       "      <td>126.0</td>\n",
       "    </tr>\n",
       "    <tr>\n",
       "      <th>4</th>\n",
       "      <td>6</td>\n",
       "      <td>158.0</td>\n",
       "    </tr>\n",
       "    <tr>\n",
       "      <th>...</th>\n",
       "      <td>...</td>\n",
       "      <td>...</td>\n",
       "    </tr>\n",
       "    <tr>\n",
       "      <th>18873</th>\n",
       "      <td>19333</td>\n",
       "      <td>8.0</td>\n",
       "    </tr>\n",
       "    <tr>\n",
       "      <th>18874</th>\n",
       "      <td>19334</td>\n",
       "      <td>43.0</td>\n",
       "    </tr>\n",
       "    <tr>\n",
       "      <th>18875</th>\n",
       "      <td>19335</td>\n",
       "      <td>127.0</td>\n",
       "    </tr>\n",
       "    <tr>\n",
       "      <th>18876</th>\n",
       "      <td>19336</td>\n",
       "      <td>167.0</td>\n",
       "    </tr>\n",
       "    <tr>\n",
       "      <th>18877</th>\n",
       "      <td>19337</td>\n",
       "      <td>8.0</td>\n",
       "    </tr>\n",
       "  </tbody>\n",
       "</table>\n",
       "<p>18878 rows × 2 columns</p>\n",
       "</div>"
      ],
      "text/plain": [
       "        고객번호  선매품구매횟수\n",
       "0          1    306.0\n",
       "1          2    262.0\n",
       "2          3      2.0\n",
       "3          4    126.0\n",
       "4          6    158.0\n",
       "...      ...      ...\n",
       "18873  19333      8.0\n",
       "18874  19334     43.0\n",
       "18875  19335    127.0\n",
       "18876  19336    167.0\n",
       "18877  19337      8.0\n",
       "\n",
       "[18878 rows x 2 columns]"
      ]
     },
     "execution_count": 173,
     "metadata": {},
     "output_type": "execute_result"
    }
   ],
   "source": [
    "# 17기 구매횟수\n",
    "tree"
   ]
  },
  {
   "cell_type": "code",
   "execution_count": 194,
   "id": "1e25e0e1",
   "metadata": {},
   "outputs": [],
   "source": [
    "df_pivot_f3 = df_pivot_f1.drop(['8Q','7Q'],axis=1)"
   ]
  },
  {
   "cell_type": "code",
   "execution_count": 195,
   "id": "fa48d3d8",
   "metadata": {},
   "outputs": [],
   "source": [
    "df_pivot_f3['선매품구매횟수'] = df_pivot_f3['1Q'] + df_pivot_f3['2Q'] + df_pivot_f3['3Q'] + df_pivot_f3['4Q'] + df_pivot_f3['5Q']+ df_pivot_f3['6Q']"
   ]
  },
  {
   "cell_type": "code",
   "execution_count": 196,
   "id": "f759fd3c",
   "metadata": {},
   "outputs": [],
   "source": [
    "df_pivot_f3 = df_pivot_f3.drop(['1Q','2Q','3Q','4Q','5Q','6Q'],axis=1)"
   ]
  },
  {
   "cell_type": "code",
   "execution_count": 197,
   "id": "6bc463f6",
   "metadata": {},
   "outputs": [],
   "source": [
    "tree10=pd.merge(c, df_pivot_f3,on='고객번호', how='left')"
   ]
  },
  {
   "cell_type": "code",
   "execution_count": 198,
   "id": "1fae4e6d",
   "metadata": {},
   "outputs": [],
   "source": [
    "tree10 = tree10.fillna(0)"
   ]
  },
  {
   "cell_type": "code",
   "execution_count": 199,
   "id": "5b9e8a80",
   "metadata": {},
   "outputs": [
    {
     "data": {
      "text/html": [
       "<div>\n",
       "<style scoped>\n",
       "    .dataframe tbody tr th:only-of-type {\n",
       "        vertical-align: middle;\n",
       "    }\n",
       "\n",
       "    .dataframe tbody tr th {\n",
       "        vertical-align: top;\n",
       "    }\n",
       "\n",
       "    .dataframe thead th {\n",
       "        text-align: right;\n",
       "    }\n",
       "</style>\n",
       "<table border=\"1\" class=\"dataframe\">\n",
       "  <thead>\n",
       "    <tr style=\"text-align: right;\">\n",
       "      <th></th>\n",
       "      <th>고객번호</th>\n",
       "      <th>선매품구매횟수</th>\n",
       "    </tr>\n",
       "  </thead>\n",
       "  <tbody>\n",
       "    <tr>\n",
       "      <th>0</th>\n",
       "      <td>1</td>\n",
       "      <td>268.0</td>\n",
       "    </tr>\n",
       "    <tr>\n",
       "      <th>1</th>\n",
       "      <td>2</td>\n",
       "      <td>219.0</td>\n",
       "    </tr>\n",
       "    <tr>\n",
       "      <th>2</th>\n",
       "      <td>3</td>\n",
       "      <td>2.0</td>\n",
       "    </tr>\n",
       "    <tr>\n",
       "      <th>3</th>\n",
       "      <td>4</td>\n",
       "      <td>108.0</td>\n",
       "    </tr>\n",
       "    <tr>\n",
       "      <th>4</th>\n",
       "      <td>5</td>\n",
       "      <td>48.0</td>\n",
       "    </tr>\n",
       "    <tr>\n",
       "      <th>...</th>\n",
       "      <td>...</td>\n",
       "      <td>...</td>\n",
       "    </tr>\n",
       "    <tr>\n",
       "      <th>18892</th>\n",
       "      <td>19333</td>\n",
       "      <td>8.0</td>\n",
       "    </tr>\n",
       "    <tr>\n",
       "      <th>18893</th>\n",
       "      <td>19334</td>\n",
       "      <td>39.0</td>\n",
       "    </tr>\n",
       "    <tr>\n",
       "      <th>18894</th>\n",
       "      <td>19335</td>\n",
       "      <td>116.0</td>\n",
       "    </tr>\n",
       "    <tr>\n",
       "      <th>18895</th>\n",
       "      <td>19336</td>\n",
       "      <td>145.0</td>\n",
       "    </tr>\n",
       "    <tr>\n",
       "      <th>18896</th>\n",
       "      <td>19337</td>\n",
       "      <td>7.0</td>\n",
       "    </tr>\n",
       "  </tbody>\n",
       "</table>\n",
       "<p>18897 rows × 2 columns</p>\n",
       "</div>"
      ],
      "text/plain": [
       "        고객번호  선매품구매횟수\n",
       "0          1    268.0\n",
       "1          2    219.0\n",
       "2          3      2.0\n",
       "3          4    108.0\n",
       "4          5     48.0\n",
       "...      ...      ...\n",
       "18892  19333      8.0\n",
       "18893  19334     39.0\n",
       "18894  19335    116.0\n",
       "18895  19336    145.0\n",
       "18896  19337      7.0\n",
       "\n",
       "[18897 rows x 2 columns]"
      ]
     },
     "execution_count": 199,
     "metadata": {},
     "output_type": "execute_result"
    }
   ],
   "source": [
    "# 16기 구매횟수\n",
    "tree10"
   ]
  },
  {
   "cell_type": "code",
   "execution_count": 174,
   "id": "408592f2",
   "metadata": {},
   "outputs": [],
   "source": [
    "# 분기별 구매금액\n",
    "df_pivot_s2 = pd.pivot_table(h,                # 피벗할 데이터프레임\n",
    "                     index = '고객번호',    # 행 위치에 들어갈 열\n",
    "                     columns = 'QUARTER',    # 열 위치에 들어갈 열\n",
    "                     values = '구매금액',     # 데이터로 사용할 열\n",
    "                     aggfunc = 'sum')   # 데이터 집계함수"
   ]
  },
  {
   "cell_type": "code",
   "execution_count": 175,
   "id": "78a4773f",
   "metadata": {},
   "outputs": [],
   "source": [
    "df_pivot_s2 = df_pivot_s2.fillna(0)"
   ]
  },
  {
   "cell_type": "code",
   "execution_count": 176,
   "id": "4fb14264",
   "metadata": {},
   "outputs": [],
   "source": [
    "df_pivot_s3 = df_pivot_s2.drop(['8Q'],axis=1)"
   ]
  },
  {
   "cell_type": "code",
   "execution_count": 177,
   "id": "9eb297d0",
   "metadata": {},
   "outputs": [],
   "source": [
    "# 선매품 등급화\n",
    "aa=df_pivot_s3['1Q'].sort_values(ascending=False)\n",
    "cuts = pd.qcut(aa,10,labels=np.arange(1,11)[::-1])\n",
    "cc=pd.concat([aa,cuts],axis=1)"
   ]
  },
  {
   "cell_type": "code",
   "execution_count": 178,
   "id": "c190f689",
   "metadata": {},
   "outputs": [],
   "source": [
    "lst=['2Q','3Q','4Q','5Q','6Q','7Q']\n",
    "for i in lst:\n",
    "    aa=df_pivot_s3[f'{i}'].sort_values(ascending=False)\n",
    "    \n",
    "    cuts = pd.qcut(aa,10,labels=np.arange(1,11)[::-1])\n",
    "    table=pd.concat([aa,cuts],axis=1)  \n",
    "    cc=pd.merge(cc,table, on='고객번호',how='left')"
   ]
  },
  {
   "cell_type": "code",
   "execution_count": 179,
   "id": "5d46aafa",
   "metadata": {},
   "outputs": [],
   "source": [
    "cc.columns=['선매품1','선매품등급1','선매품2','선매품등급2','선매품3','선매품등급3','선매품4','선매품등급4','선매품5','선매품등급5','선매품6','선매품등급6','선매품7','선매품등급7']"
   ]
  },
  {
   "cell_type": "code",
   "execution_count": 180,
   "id": "60b45865",
   "metadata": {},
   "outputs": [],
   "source": [
    "cc = cc.drop(['선매품1','선매품2','선매품3','선매품4','선매품5','선매품6','선매품7'],axis=1)"
   ]
  },
  {
   "cell_type": "code",
   "execution_count": 181,
   "id": "97947d15",
   "metadata": {},
   "outputs": [],
   "source": [
    "cc = cc.reset_index()"
   ]
  },
  {
   "cell_type": "code",
   "execution_count": 182,
   "id": "d7db707f",
   "metadata": {},
   "outputs": [],
   "source": [
    "cc = cc.sort_values('고객번호')"
   ]
  },
  {
   "cell_type": "code",
   "execution_count": 183,
   "id": "56036091",
   "metadata": {},
   "outputs": [
    {
     "data": {
      "text/html": [
       "<div>\n",
       "<style scoped>\n",
       "    .dataframe tbody tr th:only-of-type {\n",
       "        vertical-align: middle;\n",
       "    }\n",
       "\n",
       "    .dataframe tbody tr th {\n",
       "        vertical-align: top;\n",
       "    }\n",
       "\n",
       "    .dataframe thead th {\n",
       "        text-align: right;\n",
       "    }\n",
       "</style>\n",
       "<table border=\"1\" class=\"dataframe\">\n",
       "  <thead>\n",
       "    <tr style=\"text-align: right;\">\n",
       "      <th></th>\n",
       "      <th>고객번호</th>\n",
       "      <th>선매품등급1</th>\n",
       "      <th>선매품등급2</th>\n",
       "      <th>선매품등급3</th>\n",
       "      <th>선매품등급4</th>\n",
       "      <th>선매품등급5</th>\n",
       "      <th>선매품등급6</th>\n",
       "      <th>선매품등급7</th>\n",
       "    </tr>\n",
       "  </thead>\n",
       "  <tbody>\n",
       "    <tr>\n",
       "      <th>0</th>\n",
       "      <td>1</td>\n",
       "      <td>1</td>\n",
       "      <td>1</td>\n",
       "      <td>1</td>\n",
       "      <td>1</td>\n",
       "      <td>1</td>\n",
       "      <td>1</td>\n",
       "      <td>1</td>\n",
       "    </tr>\n",
       "    <tr>\n",
       "      <th>1</th>\n",
       "      <td>2</td>\n",
       "      <td>1</td>\n",
       "      <td>1</td>\n",
       "      <td>1</td>\n",
       "      <td>2</td>\n",
       "      <td>1</td>\n",
       "      <td>2</td>\n",
       "      <td>1</td>\n",
       "    </tr>\n",
       "    <tr>\n",
       "      <th>2</th>\n",
       "      <td>3</td>\n",
       "      <td>10</td>\n",
       "      <td>8</td>\n",
       "      <td>9</td>\n",
       "      <td>10</td>\n",
       "      <td>10</td>\n",
       "      <td>10</td>\n",
       "      <td>10</td>\n",
       "    </tr>\n",
       "    <tr>\n",
       "      <th>3</th>\n",
       "      <td>4</td>\n",
       "      <td>5</td>\n",
       "      <td>3</td>\n",
       "      <td>3</td>\n",
       "      <td>4</td>\n",
       "      <td>5</td>\n",
       "      <td>5</td>\n",
       "      <td>4</td>\n",
       "    </tr>\n",
       "    <tr>\n",
       "      <th>4</th>\n",
       "      <td>6</td>\n",
       "      <td>5</td>\n",
       "      <td>4</td>\n",
       "      <td>4</td>\n",
       "      <td>4</td>\n",
       "      <td>3</td>\n",
       "      <td>3</td>\n",
       "      <td>4</td>\n",
       "    </tr>\n",
       "    <tr>\n",
       "      <th>...</th>\n",
       "      <td>...</td>\n",
       "      <td>...</td>\n",
       "      <td>...</td>\n",
       "      <td>...</td>\n",
       "      <td>...</td>\n",
       "      <td>...</td>\n",
       "      <td>...</td>\n",
       "      <td>...</td>\n",
       "    </tr>\n",
       "    <tr>\n",
       "      <th>18873</th>\n",
       "      <td>19333</td>\n",
       "      <td>8</td>\n",
       "      <td>10</td>\n",
       "      <td>10</td>\n",
       "      <td>9</td>\n",
       "      <td>10</td>\n",
       "      <td>9</td>\n",
       "      <td>10</td>\n",
       "    </tr>\n",
       "    <tr>\n",
       "      <th>18874</th>\n",
       "      <td>19334</td>\n",
       "      <td>9</td>\n",
       "      <td>9</td>\n",
       "      <td>9</td>\n",
       "      <td>8</td>\n",
       "      <td>6</td>\n",
       "      <td>9</td>\n",
       "      <td>6</td>\n",
       "    </tr>\n",
       "    <tr>\n",
       "      <th>18875</th>\n",
       "      <td>19335</td>\n",
       "      <td>7</td>\n",
       "      <td>5</td>\n",
       "      <td>6</td>\n",
       "      <td>7</td>\n",
       "      <td>6</td>\n",
       "      <td>6</td>\n",
       "      <td>7</td>\n",
       "    </tr>\n",
       "    <tr>\n",
       "      <th>18876</th>\n",
       "      <td>19336</td>\n",
       "      <td>6</td>\n",
       "      <td>3</td>\n",
       "      <td>3</td>\n",
       "      <td>2</td>\n",
       "      <td>3</td>\n",
       "      <td>3</td>\n",
       "      <td>2</td>\n",
       "    </tr>\n",
       "    <tr>\n",
       "      <th>18877</th>\n",
       "      <td>19337</td>\n",
       "      <td>10</td>\n",
       "      <td>10</td>\n",
       "      <td>9</td>\n",
       "      <td>7</td>\n",
       "      <td>8</td>\n",
       "      <td>10</td>\n",
       "      <td>10</td>\n",
       "    </tr>\n",
       "  </tbody>\n",
       "</table>\n",
       "<p>18878 rows × 8 columns</p>\n",
       "</div>"
      ],
      "text/plain": [
       "        고객번호 선매품등급1 선매품등급2 선매품등급3 선매품등급4 선매품등급5 선매품등급6 선매품등급7\n",
       "0          1      1      1      1      1      1      1      1\n",
       "1          2      1      1      1      2      1      2      1\n",
       "2          3     10      8      9     10     10     10     10\n",
       "3          4      5      3      3      4      5      5      4\n",
       "4          6      5      4      4      4      3      3      4\n",
       "...      ...    ...    ...    ...    ...    ...    ...    ...\n",
       "18873  19333      8     10     10      9     10      9     10\n",
       "18874  19334      9      9      9      8      6      9      6\n",
       "18875  19335      7      5      6      7      6      6      7\n",
       "18876  19336      6      3      3      2      3      3      2\n",
       "18877  19337     10     10      9      7      8     10     10\n",
       "\n",
       "[18878 rows x 8 columns]"
      ]
     },
     "execution_count": 183,
     "metadata": {},
     "output_type": "execute_result"
    }
   ],
   "source": [
    "# 7기까지 기존고객과 합침\n",
    "tree2=pd.merge(b, cc,on='고객번호', how='left')\n",
    "tree2"
   ]
  },
  {
   "cell_type": "code",
   "execution_count": 184,
   "id": "47238c42",
   "metadata": {},
   "outputs": [],
   "source": [
    "# 증감을 구하기 위해 엑셀로 옮김\n",
    "import csv\n",
    "tree2.to_excel('선매품17.xlsx',encoding='euc-kr',index=False)"
   ]
  },
  {
   "cell_type": "code",
   "execution_count": 185,
   "id": "edc1d6f6",
   "metadata": {},
   "outputs": [],
   "source": [
    "# 구한 증감을 다시 불러옴\n",
    "z= pd.read_excel('선매품17.xlsx')"
   ]
  },
  {
   "cell_type": "code",
   "execution_count": 187,
   "id": "ba1770a9",
   "metadata": {},
   "outputs": [],
   "source": [
    "z = z.drop(['선매품등급1','선매품등급2','선매품등급3','선매품등급4','선매품등급5','선매품등급6','선매품등급7'],axis=1)"
   ]
  },
  {
   "cell_type": "code",
   "execution_count": 188,
   "id": "3f863d65",
   "metadata": {},
   "outputs": [],
   "source": [
    "tree3=pd.merge(tree, z,on='고객번호', how='left')"
   ]
  },
  {
   "cell_type": "code",
   "execution_count": 189,
   "id": "3ab551d6",
   "metadata": {},
   "outputs": [],
   "source": [
    "import csv\n",
    "tree3.to_csv('선매품테이블17기.csv',mode=\"w\",encoding='euc-kr',index=False)"
   ]
  },
  {
   "cell_type": "code",
   "execution_count": null,
   "id": "1416b8ec",
   "metadata": {},
   "outputs": [],
   "source": []
  },
  {
   "cell_type": "code",
   "execution_count": 200,
   "id": "31921dda",
   "metadata": {},
   "outputs": [],
   "source": [
    "df_pivot_s4 = df_pivot_s2.drop(['8Q','7Q'],axis=1)"
   ]
  },
  {
   "cell_type": "code",
   "execution_count": 201,
   "id": "3ff7704b",
   "metadata": {},
   "outputs": [],
   "source": [
    "# 선매품 등급화\n",
    "aa=df_pivot_s4['1Q'].sort_values(ascending=False)\n",
    "cuts = pd.qcut(aa,10,labels=np.arange(1,11)[::-1])\n",
    "cc=pd.concat([aa,cuts],axis=1)"
   ]
  },
  {
   "cell_type": "code",
   "execution_count": 202,
   "id": "04780d73",
   "metadata": {},
   "outputs": [],
   "source": [
    "lst=['2Q','3Q','4Q','5Q','6Q']\n",
    "for i in lst:\n",
    "    aa=df_pivot_s4[f'{i}'].sort_values(ascending=False)\n",
    "    \n",
    "    cuts = pd.qcut(aa,10,labels=np.arange(1,11)[::-1])\n",
    "    table=pd.concat([aa,cuts],axis=1)  \n",
    "    cc=pd.merge(cc,table, on='고객번호',how='left')"
   ]
  },
  {
   "cell_type": "code",
   "execution_count": 203,
   "id": "6c411fa6",
   "metadata": {},
   "outputs": [],
   "source": [
    "cc.columns=['선매품1','선매품등급1','선매품2','선매품등급2','선매품3','선매품등급3','선매품4','선매품등급4','선매품5','선매품등급5','선매품6','선매품등급6']"
   ]
  },
  {
   "cell_type": "code",
   "execution_count": 204,
   "id": "631eae65",
   "metadata": {},
   "outputs": [],
   "source": [
    "cc = cc.drop(['선매품1','선매품2','선매품3','선매품4','선매품5','선매품6'],axis=1)"
   ]
  },
  {
   "cell_type": "code",
   "execution_count": 205,
   "id": "1badb533",
   "metadata": {},
   "outputs": [
    {
     "data": {
      "text/html": [
       "<div>\n",
       "<style scoped>\n",
       "    .dataframe tbody tr th:only-of-type {\n",
       "        vertical-align: middle;\n",
       "    }\n",
       "\n",
       "    .dataframe tbody tr th {\n",
       "        vertical-align: top;\n",
       "    }\n",
       "\n",
       "    .dataframe thead th {\n",
       "        text-align: right;\n",
       "    }\n",
       "</style>\n",
       "<table border=\"1\" class=\"dataframe\">\n",
       "  <thead>\n",
       "    <tr style=\"text-align: right;\">\n",
       "      <th></th>\n",
       "      <th>고객번호</th>\n",
       "      <th>선매품등급1</th>\n",
       "      <th>선매품등급2</th>\n",
       "      <th>선매품등급3</th>\n",
       "      <th>선매품등급4</th>\n",
       "      <th>선매품등급5</th>\n",
       "      <th>선매품등급6</th>\n",
       "    </tr>\n",
       "  </thead>\n",
       "  <tbody>\n",
       "    <tr>\n",
       "      <th>0</th>\n",
       "      <td>1</td>\n",
       "      <td>1</td>\n",
       "      <td>1</td>\n",
       "      <td>1</td>\n",
       "      <td>1</td>\n",
       "      <td>1</td>\n",
       "      <td>1</td>\n",
       "    </tr>\n",
       "    <tr>\n",
       "      <th>1</th>\n",
       "      <td>2</td>\n",
       "      <td>1</td>\n",
       "      <td>1</td>\n",
       "      <td>1</td>\n",
       "      <td>2</td>\n",
       "      <td>1</td>\n",
       "      <td>2</td>\n",
       "    </tr>\n",
       "    <tr>\n",
       "      <th>2</th>\n",
       "      <td>3</td>\n",
       "      <td>10</td>\n",
       "      <td>8</td>\n",
       "      <td>9</td>\n",
       "      <td>10</td>\n",
       "      <td>10</td>\n",
       "      <td>10</td>\n",
       "    </tr>\n",
       "    <tr>\n",
       "      <th>3</th>\n",
       "      <td>4</td>\n",
       "      <td>5</td>\n",
       "      <td>3</td>\n",
       "      <td>3</td>\n",
       "      <td>4</td>\n",
       "      <td>5</td>\n",
       "      <td>5</td>\n",
       "    </tr>\n",
       "    <tr>\n",
       "      <th>4</th>\n",
       "      <td>5</td>\n",
       "      <td>4</td>\n",
       "      <td>5</td>\n",
       "      <td>4</td>\n",
       "      <td>9</td>\n",
       "      <td>4</td>\n",
       "      <td>6</td>\n",
       "    </tr>\n",
       "    <tr>\n",
       "      <th>...</th>\n",
       "      <td>...</td>\n",
       "      <td>...</td>\n",
       "      <td>...</td>\n",
       "      <td>...</td>\n",
       "      <td>...</td>\n",
       "      <td>...</td>\n",
       "      <td>...</td>\n",
       "    </tr>\n",
       "    <tr>\n",
       "      <th>18892</th>\n",
       "      <td>19333</td>\n",
       "      <td>8</td>\n",
       "      <td>10</td>\n",
       "      <td>10</td>\n",
       "      <td>9</td>\n",
       "      <td>10</td>\n",
       "      <td>9</td>\n",
       "    </tr>\n",
       "    <tr>\n",
       "      <th>18893</th>\n",
       "      <td>19334</td>\n",
       "      <td>9</td>\n",
       "      <td>9</td>\n",
       "      <td>9</td>\n",
       "      <td>8</td>\n",
       "      <td>6</td>\n",
       "      <td>9</td>\n",
       "    </tr>\n",
       "    <tr>\n",
       "      <th>18894</th>\n",
       "      <td>19335</td>\n",
       "      <td>7</td>\n",
       "      <td>5</td>\n",
       "      <td>6</td>\n",
       "      <td>7</td>\n",
       "      <td>6</td>\n",
       "      <td>6</td>\n",
       "    </tr>\n",
       "    <tr>\n",
       "      <th>18895</th>\n",
       "      <td>19336</td>\n",
       "      <td>6</td>\n",
       "      <td>3</td>\n",
       "      <td>3</td>\n",
       "      <td>2</td>\n",
       "      <td>3</td>\n",
       "      <td>3</td>\n",
       "    </tr>\n",
       "    <tr>\n",
       "      <th>18896</th>\n",
       "      <td>19337</td>\n",
       "      <td>10</td>\n",
       "      <td>10</td>\n",
       "      <td>9</td>\n",
       "      <td>7</td>\n",
       "      <td>8</td>\n",
       "      <td>10</td>\n",
       "    </tr>\n",
       "  </tbody>\n",
       "</table>\n",
       "<p>18897 rows × 7 columns</p>\n",
       "</div>"
      ],
      "text/plain": [
       "        고객번호 선매품등급1 선매품등급2 선매품등급3 선매품등급4 선매품등급5 선매품등급6\n",
       "0          1      1      1      1      1      1      1\n",
       "1          2      1      1      1      2      1      2\n",
       "2          3     10      8      9     10     10     10\n",
       "3          4      5      3      3      4      5      5\n",
       "4          5      4      5      4      9      4      6\n",
       "...      ...    ...    ...    ...    ...    ...    ...\n",
       "18892  19333      8     10     10      9     10      9\n",
       "18893  19334      9      9      9      8      6      9\n",
       "18894  19335      7      5      6      7      6      6\n",
       "18895  19336      6      3      3      2      3      3\n",
       "18896  19337     10     10      9      7      8     10\n",
       "\n",
       "[18897 rows x 7 columns]"
      ]
     },
     "execution_count": 205,
     "metadata": {},
     "output_type": "execute_result"
    }
   ],
   "source": [
    "tree11=pd.merge(c, cc,on='고객번호', how='left')\n",
    "tree11"
   ]
  },
  {
   "cell_type": "code",
   "execution_count": 206,
   "id": "f2379562",
   "metadata": {},
   "outputs": [],
   "source": [
    "import csv\n",
    "tree11.to_excel('선매품16.xlsx',encoding='euc-kr',index=False)"
   ]
  },
  {
   "cell_type": "code",
   "execution_count": 207,
   "id": "6933442e",
   "metadata": {},
   "outputs": [],
   "source": [
    "# 구한 증감을 다시 불러옴\n",
    "z= pd.read_excel('선매품16.xlsx')"
   ]
  },
  {
   "cell_type": "code",
   "execution_count": 208,
   "id": "70441c5f",
   "metadata": {},
   "outputs": [],
   "source": [
    "z = z.drop(['선매품등급1','선매품등급2','선매품등급3','선매품등급4','선매품등급5','선매품등급6'],axis=1)"
   ]
  },
  {
   "cell_type": "code",
   "execution_count": 210,
   "id": "263e5538",
   "metadata": {},
   "outputs": [],
   "source": [
    "# 7기까지 기존고객과 합침\n",
    "tree5=pd.merge(tree10, z,on='고객번호', how='left')"
   ]
  },
  {
   "cell_type": "code",
   "execution_count": 211,
   "id": "199e0ec7",
   "metadata": {},
   "outputs": [],
   "source": [
    "import csv\n",
    "tree5.to_csv('선매품테이블16기.csv',mode=\"w\",encoding='euc-kr',index=False)"
   ]
  },
  {
   "cell_type": "code",
   "execution_count": null,
   "id": "b0d86b80",
   "metadata": {},
   "outputs": [],
   "source": []
  }
 ],
 "metadata": {
  "kernelspec": {
   "display_name": "Python 3 (ipykernel)",
   "language": "python",
   "name": "python3"
  },
  "language_info": {
   "codemirror_mode": {
    "name": "ipython",
    "version": 3
   },
   "file_extension": ".py",
   "mimetype": "text/x-python",
   "name": "python",
   "nbconvert_exporter": "python",
   "pygments_lexer": "ipython3",
   "version": "3.8.12"
  }
 },
 "nbformat": 4,
 "nbformat_minor": 5
}
